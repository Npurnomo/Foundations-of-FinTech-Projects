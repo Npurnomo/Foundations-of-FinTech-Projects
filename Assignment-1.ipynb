{
 "cells": [
  {
   "cell_type": "markdown",
   "metadata": {
    "deletable": false,
    "editable": false,
    "nbgrader": {
     "checksum": "e58cc86dbe812c4435a7e0da14ba1aee",
     "grade": false,
     "grade_id": "cell-0ca780450c0c60e1",
     "locked": true,
     "schema_version": 1,
     "solution": false
    }
   },
   "source": [
    "## FNCE30012: Foundations of Fintech - Assignment 1\n",
    "Before you start solving the assignment, please carefully read the assignment instructions and introduction in **Assignment1_Intro.pdf**."
   ]
  },
  {
   "cell_type": "markdown",
   "metadata": {
    "deletable": false,
    "editable": false,
    "nbgrader": {
     "checksum": "fda818c496f61a84d5700fac7ca513d7",
     "grade": false,
     "grade_id": "cell-c7e8709415b6d36f",
     "locked": true,
     "schema_version": 1,
     "solution": false
    }
   },
   "source": [
    "## Question 1 (1 mark)\n",
    "Plot and label the distribution of inspected vs. uninspected cars in the **blockchain marketplace**."
   ]
  },
  {
   "cell_type": "code",
   "execution_count": 4,
   "metadata": {
    "deletable": false,
    "nbgrader": {
     "checksum": "c4219f0d982dbe6f00d9c08ba01e55bb",
     "grade": true,
     "grade_id": "cell-0355b8777169b044",
     "locked": false,
     "points": 1,
     "schema_version": 1,
     "solution": true
    }
   },
   "outputs": [
    {
     "name": "stdout",
     "output_type": "stream",
     "text": [
      "{'True': 75, 'False': 75}\n"
     ]
    },
    {
     "data": {
      "text/plain": [
       "([<matplotlib.axis.XTick at 0x7f3c11668898>,\n",
       "  <matplotlib.axis.XTick at 0x7f3c11668f60>],\n",
       " <a list of 2 Text xticklabel objects>)"
      ]
     },
     "execution_count": 4,
     "metadata": {},
     "output_type": "execute_result"
    },
    {
     "data": {
      "image/png": "[encoded data removed]",
      "text/plain": [
       "<Figure size 432x288 with 1 Axes>"
      ]
     },
     "metadata": {
      "needs_background": "light"
     },
     "output_type": "display_data"
    }
   ],
   "source": [
    "# Import required libraries\n",
    "from bmmnet import *\n",
    "import matplotlib.pyplot as plt\n",
    "import numpy as np\n",
    "\n",
    "\n",
    "# Connect to the ethereum system\n",
    "w3 = connect()\n",
    "\n",
    "num_cars = total_num_cars(w3)\n",
    "\n",
    "# Initialise an empty dictionary to store the inspection count\n",
    "car_inspected = {}\n",
    "\n",
    "# Create a loop to get details of each car \n",
    "for token_id in range(1, num_cars + 1):\n",
    "    \n",
    "    # Get the address of the car with the next token \n",
    "    car_address = get_car_address(w3, token_id)\n",
    "    \n",
    "    # Get the color of the car with the given address also changing the type to string\n",
    "    inspected = str(get_car_property(w3, car_address, \"inspected\"))\n",
    "    \n",
    "    # If the car inspection (true/false) is not a key in the dictionary, then add that \n",
    "    if inspected not in car_inspected.keys():\n",
    "        car_inspected[inspected] = 0\n",
    "    \n",
    "    # Increment the inspection count by 1\n",
    "    car_inspected[inspected] += 1\n",
    "    \n",
    "    \n",
    "print(car_inspected)\n",
    "\n",
    "\n",
    "x = np.arange(2)\n",
    "plt.bar(car_inspected.keys(), car_inspected.values())\n",
    "plt.ylabel(\"Number of cars\")\n",
    "plt.xlabel(\"Cars\")\n",
    "plt.title(\"Distribution of Inspected vs Uninspected Cars\")\n",
    "plt.xticks(x, ('Unispected', 'Inspected'))"
   ]
  },
  {
   "cell_type": "markdown",
   "metadata": {
    "deletable": false,
    "editable": false,
    "nbgrader": {
     "checksum": "c68d1662a456c89b1436cf7646d66794",
     "grade": false,
     "grade_id": "cell-ae161765ed36c6ed",
     "locked": true,
     "schema_version": 1,
     "solution": false
    }
   },
   "source": [
    "## Question 2 (1 mark)\n",
    "Let’s make the *optimistic* assumption that 50% of the cars in the **traditional marketplace** are peaches. Calculate your expected utility from going to the traditional marketplace and offering $100 for a used car? Is this a good idea? Explain."
   ]
  },
  {
   "cell_type": "markdown",
   "metadata": {
    "deletable": false,
    "nbgrader": {
     "checksum": "8d3a36e28fb4d92c99c14634874336d6",
     "grade": true,
     "grade_id": "cell-04ec02f22e3382d0",
     "locked": false,
     "points": 1,
     "schema_version": 1,
     "solution": true
    }
   },
   "source": [
    "I would assume that there are only two types of used cars in the market: Peaches and Lemons. The fact that we know that \"50% of the cars in the traditional marketplace are peaches\" conveys that the other 50% are Lemons. This provides me with the information about probabilities of being matched with a particular seller with a particular car type. The probablities are 50% for peaches and 50% for lemons respectively. I am also provided the information on the utilities. \"Utility from owning alemon corresponds to \\\\$65. In contrast, owning a peach is worth \\\\$127 to you.\". And initial cash of \\\\$110 and that is equal in value with utility of \\\\$110. Hence, we can do the calculation.\n",
    "\n",
    "By offering \\\\$100, my expected utility is going to be the sum of the product of the peobablilities of car type and the utilities of each type, plus the leftover cash of \\\\$10. Sellers of both peaches and lemons will proceed with the trade as the offer is $100 (the minimum of that lemon owners will accept the deal).\n",
    "\n",
    "Expected utlity = (0.5 x (65)) + (0.5 x (127)) + 10 = 106.\n",
    "\n",
    "Initial utility from not offering \\\\$100 is \\\\$110.\n",
    "\n",
    "Hence, I would conclude that this is a bad strategy as the expected utlity of offering \\\\$100 is lower than the initial utility. (\\\\$106< \\\\$110)\n",
    "\n",
    "\n",
    "\n"
   ]
  },
  {
   "cell_type": "markdown",
   "metadata": {
    "deletable": false,
    "editable": false,
    "nbgrader": {
     "checksum": "83e91d287feab0abcab26697ded1ebb3",
     "grade": false,
     "grade_id": "cell-3afb76cb2f0acbd0",
     "locked": true,
     "schema_version": 1,
     "solution": false
    }
   },
   "source": [
    "## Question 3 (1 mark)\n",
    "Let’s make the *pessimistic* assumption that all cars in the **traditional marketplace** are lemons. Calculate your utility from going to the traditional marketplace and offering $50 for a used car? Is this a good idea? Explain."
   ]
  },
  {
   "cell_type": "markdown",
   "metadata": {
    "deletable": false,
    "nbgrader": {
     "checksum": "1ff6dad0a250d5f29facc377841221d5",
     "grade": true,
     "grade_id": "cell-c89ed3103b38f370",
     "locked": false,
     "points": 1,
     "schema_version": 1,
     "solution": true
    }
   },
   "source": [
    "By offering only \\\\$50, sellers with peaches will not accept the trade. Only owners with lemons will accept the trade. The calculation is similar with Q2:\n",
    "\n",
    "leftover cash is \\\\$60.\n",
    "\n",
    "Expected utlity = (1 x (65)) + (0 x (127)) + 60 = \\\\$125.\n",
    "\n",
    "\n",
    "Initial utility from not offering \\\\$100 is \\\\$110.\n",
    "\n",
    "Hence, I would conclude that this is a good strategy as the expected utlity of offering $$50 is higher than the initial utility in this case. (\\\\$125 > \\\\$110)\n",
    "\n"
   ]
  },
  {
   "cell_type": "markdown",
   "metadata": {
    "deletable": false,
    "editable": false,
    "nbgrader": {
     "checksum": "df01fe2b24642351def41eafebdc6c2c",
     "grade": false,
     "grade_id": "cell-edb7cfc3adc63d4c",
     "locked": true,
     "schema_version": 1,
     "solution": false
    }
   },
   "source": [
    "## Question 4 (1 mark)\n",
    "Based on your conclusions from Q3 & Q4, how would your strategy look like if you had no other option than to go to the **traditional marketplace** to buy your car?"
   ]
  },
  {
   "cell_type": "markdown",
   "metadata": {
    "deletable": false,
    "nbgrader": {
     "checksum": "5dbc7e1087482abfd7c7ecf6a29fa9a6",
     "grade": true,
     "grade_id": "cell-dd33c58572a96fd7",
     "locked": false,
     "points": 1,
     "schema_version": 1,
     "solution": true
    }
   },
   "source": [
    "\"There are at least as many lemons as there are peaches\" this statement conveys that at least, 50% of the cars in the traditional marketplace are lemons. The maximum distribution of peaches is 50% of the whole market, and that is the optimistic view. To get through with the deal when matched with a peach, I will have to offer $100. That is the same condition as in qustion and I have concluded that it is a bad strategy. Therefore, I will offer the minimum amount to get a lemon that is \\\\$50 and assume the worse that all cars are lemons. This is better in my opinion than the strategy in q2 even though the view is optimistic and price offered is the minimum for a peach."
   ]
  },
  {
   "cell_type": "markdown",
   "metadata": {
    "deletable": false,
    "editable": false,
    "nbgrader": {
     "checksum": "3237150fdd528f0bc895bd8b470ce215",
     "grade": false,
     "grade_id": "cell-663101c73f31d733",
     "locked": true,
     "schema_version": 1,
     "solution": false
    }
   },
   "source": [
    "## Question 5 (1 mark)\n",
    "What does your strategy imply for the sellers of cars in the **traditional marketplace**? How many sellers who own peaches will decide to offer their cars in the traditional marketplace and why?"
   ]
  },
  {
   "cell_type": "markdown",
   "metadata": {
    "deletable": false,
    "nbgrader": {
     "checksum": "ec8712d5df591749e81ab5dde9c6e360",
     "grade": true,
     "grade_id": "cell-6ff36ad79835b146",
     "locked": false,
     "points": 1,
     "schema_version": 1,
     "solution": true
    }
   },
   "source": [
    "Only lemons will get traded in the marketplace if every buyer go with the same strategy. No sellers who own peaches will decide to offer their cars in this market as the peaches will be undervalued. This is an example of a market failure. "
   ]
  },
  {
   "cell_type": "markdown",
   "metadata": {
    "deletable": false,
    "editable": false,
    "nbgrader": {
     "checksum": "8dd2ef3d2f9934841b209c6a9d80dbe9",
     "grade": false,
     "grade_id": "cell-81c4f71bb2f1e832",
     "locked": true,
     "schema_version": 1,
     "solution": false
    }
   },
   "source": [
    "## Question 6 (1 mark)\n",
    "Let’s assume that you are already owning a BMM coin. Calculate your expected utility from executing a smart contract in the **blockchain marketplace**?"
   ]
  },
  {
   "cell_type": "markdown",
   "metadata": {
    "deletable": false,
    "nbgrader": {
     "checksum": "829d2d268009b38d45452d68cb131613",
     "grade": true,
     "grade_id": "cell-1521e5d84322a1c3",
     "locked": false,
     "points": 1,
     "schema_version": 1,
     "solution": true
    }
   },
   "source": [
    "Expected utlity is calculated in similar manner as previous questions, but the probability is given by q1 (50% each type). The conditional offer is really beneficial in terms of choosing what price to offer for each type. I will offer the minimum that the sellers would agree to sell; \\\\$50 for a lemon and \\\\$100 for a peach. Not to forget to add the leftover cash on the utility of each event. Hence, the calculation is as follow.\n",
    "\n",
    "Expected utlity = (0.5 x (65+60)) + (0.5 x (127+10)) = \\\\$131\n",
    "\n"
   ]
  },
  {
   "cell_type": "markdown",
   "metadata": {
    "deletable": false,
    "editable": false,
    "nbgrader": {
     "checksum": "8870ce6462c6376c42e58709c7d2e340",
     "grade": false,
     "grade_id": "cell-8a86d6a5e7f4ea03",
     "locked": true,
     "schema_version": 1,
     "solution": false
    }
   },
   "source": [
    "## Question 7 (1 mark)\n",
    "Let’s still assume that you are already owning a BMM coin. Would you decide to go to the traditional or the blockchain marketplace to buy a car?"
   ]
  },
  {
   "cell_type": "markdown",
   "metadata": {
    "deletable": false,
    "nbgrader": {
     "checksum": "94ad87d75ae2b56adce348aa247aed2c",
     "grade": true,
     "grade_id": "cell-ee4221e8c4187584",
     "locked": false,
     "points": 1,
     "schema_version": 1,
     "solution": true
    }
   },
   "source": [
    "Blockchain marketplace because of the higher expected utility even compared to the pessimistic view on Q3. (\\\\$131>\\\\$125)"
   ]
  },
  {
   "cell_type": "markdown",
   "metadata": {
    "deletable": false,
    "editable": false,
    "nbgrader": {
     "checksum": "03377a4330aa53023778da0687a80df2",
     "grade": false,
     "grade_id": "cell-7b1b1dbf4713c600",
     "locked": true,
     "schema_version": 1,
     "solution": false
    }
   },
   "source": [
    "## Question 8 (1 mark)\n",
    "Based on your above calculations, how much are you willing to pay for 1 BMM coin and why?"
   ]
  },
  {
   "cell_type": "markdown",
   "metadata": {
    "deletable": false,
    "nbgrader": {
     "checksum": "1ce6aaf2a2324b4fd86550fc0fd89259",
     "grade": true,
     "grade_id": "cell-871fc3ad03a9b604",
     "locked": false,
     "points": 1,
     "schema_version": 1,
     "solution": true
    }
   },
   "source": [
    "It is the difference between the expected utility from the pessimistic view of the traditional market and that of the blockchain marketplace. This is the value to make me indifferent of both market.\n",
    "\n",
    "131-125 = \\\\$6"
   ]
  },
  {
   "cell_type": "markdown",
   "metadata": {
    "deletable": false,
    "editable": false,
    "nbgrader": {
     "checksum": "97d04bc8d3f1372ff3ee22e65d4e6679",
     "grade": false,
     "grade_id": "cell-8c505bca38a8af93",
     "locked": true,
     "schema_version": 1,
     "solution": false
    }
   },
   "source": [
    "## Question 9 (2 marks)\n",
    "On the day of the ICO, try to maximize your expected utility from buying a used car on either the traditional or the blockchain marketplace. Whether it is a good idea to buy 1 BMM coin to access the latter of course depends on its price. Your mark for this final question will depend on how well you maximize your (total) expected utility.\n",
    "\n",
    "You can access the BMM ICO platform via **adhocmarkets.com** with the account **dulcet-honesty**. Your **email** is your Jupyter username plus “@bmm” (username@bmm). Your **password** is identical to your Jupyter password.\n",
    "\n",
    "Note, the ICO will begin on **Tuesday August 27** at **14:15** and last for 24 hours. Any bids submitted prior to the starting time will be deleted before the beginning of the ICO.\n",
    "\n",
    "**Note**: Type your final bid below. No further answer required."
   ]
  },
  {
   "cell_type": "markdown",
   "metadata": {
    "deletable": false,
    "nbgrader": {
     "checksum": "a8388b4d5bef3f1839beeab431af0ca5",
     "grade": true,
     "grade_id": "cell-8047a88e2855c5d3",
     "locked": false,
     "points": 2,
     "schema_version": 1,
     "solution": true
    }
   },
   "source": [
    "\\\\$6"
   ]
  }
 ],
 "metadata": {
  "kernelspec": {
   "display_name": "Python 3",
   "language": "python",
   "name": "python3"
  },
  "language_info": {
   "codemirror_mode": {
    "name": "ipython",
    "version": 3
   },
   "file_extension": ".py",
   "mimetype": "text/x-python",
   "name": "python",
   "nbconvert_exporter": "python",
   "pygments_lexer": "ipython3",
   "version": "3.7.1"
  }
 },
 "nbformat": 4,
 "nbformat_minor": 2
}
