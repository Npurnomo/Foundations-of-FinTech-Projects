{
 "cells": [
  {
   "cell_type": "markdown",
   "metadata": {
    "deletable": false,
    "editable": false,
    "nbgrader": {
     "checksum": "cdac6c8167ccaf49d066a75a876669ce",
     "grade": false,
     "grade_id": "cell-f59ba02a0d0bd641",
     "locked": true,
     "schema_version": 1,
     "solution": false
    }
   },
   "source": [
    "## FNCE30012: Foundations of Fintech - Assignment 5\n",
    "This assignment builds on Lectures 10 to 12 and on Tutorials 8 to 11. You might want to consider using parts of the Python code discussed in those tutorials to answer some of the questions below.\n",
    "\n",
    "**Important:** It is important that you *do not* change the type (markdown vs. code) of any cell, *nor* copy/paste/duplicate any cell! If the cell type is markdown, you are supposed to write text, not code, and vice versa. Provide your answer to each question in the allocated cell. *Do not* create additional cells. Answers provided in any other cell will **not** be marked. *Do not* rename the assignment files. All files in the assignment directory should be left as is.\n",
    "\n",
    "### Setting\n",
    "Equifax Australia has provided us with synthetic loan application data from Australian proprietary companies. This data was generated to match the characteristics of *actual* lending proposals approved between February 2017 and March 2018. The Equifax data consists of two parts, which, to make it easier for you, we have merged together into one data set:\n",
    "\n",
    "1. Company Business Trading History Data: This first part of the data set contains historical business trading data from 25,000 Australian proprietary companies who were granted a loan between February 2017 and March 2018.\n",
    "2. Director Data: This second part of the data set contains information on up to four directors of each company. In case a company has more than one director, the corresponding data has been averaged across directors at the company level.\n",
    "\n",
    "\n",
    "Since this is proprietary data that belongs to Equifax, we are not allowed to give you direct access to it. However, thanks to Jupyter Hub, you are able to access it remotely. In particular, using your knowledge from Tutorial 9, you are able to analyse it at an aggregate level and to use it for the estimation of credit scoring models.\n",
    "\n",
    "The file called `Equifax_Data_Dictionary.xlsx` provides you with the dictionary for both company and director level data.\n",
    "\n",
    "#### Helpful commands\n",
    "The merged Equifax dataset will be referred to by the name `assignment5`. Please see Tutorial 9 for the details of how to run functions on remote data. We have implemented additional functions to help you with this assignment. Details of these functions are below:\n",
    "\n",
    "1. `send_grouped_mean_request()`: This function takes inputs in the form of a dictionary containing names of two columns, and returns a Pandas dataframe that contains grouped means of a column with respect to another column. For example, using this function with input `{\"data\": \"tutorial9.1\",\"var\": \"age\", \"y\": \"SeriousDlqin2yrs\"}` will return a dataframe where each entry has a value for `age` and the respective mean of `SeriousDlqin2yrs` for applicants' of that age (see Tutorial 10).\n",
    "2. `send_glm_request()`: This function takes inputs in the form of a reference to the remote data (\"data\") and the dependent variable (\"y\"), i.e., `{\"data\": data, \"y\": y}`, and outputs the detailed results of a full-fledged logistic regression model without feature selection.\n",
    "3. `send_logit_request()`: This function is similar to the `send_nn_request()` method, but it performs the remote estimation of a customised logistic regression. It takes inputs in the form of a dictionary `{\"data\": data, \"test\": 0.2, \"x\": features, \"y\": y, \"scale\":\"True\"}` where:\n",
    "       a. \"data\": Reference to the remote data (see below)\n",
    "       b. \"test\": Fraction of the data used for testing\n",
    "       c. \"x\": List of features (independent variables) used by the model\n",
    "       d. \"y\": Target variable (dependent variable) of the model\n",
    "       e. \"scale\": Indicator (\"True\"/\"False\") for scaling\n",
    "\n",
    "\n",
    "#### Predefined variables\n",
    "For your convenience, we have predefined certain variables which you should reuse for this assignment:\n",
    "1. `data`: The remote Equifax dataset that should be used in this assignment\n",
    "2. `target`: The target variable (default indicator over 12 months)\n",
    "3. `all_features`: The complete list of available features\n",
    "\n",
    "**Note:** Please do not change the values of these variables."
   ]
  },
  {
   "cell_type": "code",
   "execution_count": 46,
   "metadata": {
    "deletable": false,
    "editable": false,
    "nbgrader": {
     "checksum": "d854f9b77be562d6300424592a1dc38c",
     "grade": false,
     "grade_id": "cell-179dcf8239665c9f",
     "locked": true,
     "schema_version": 1,
     "solution": false
    }
   },
   "outputs": [],
   "source": [
    "# the merged Equifax dataset\n",
    "data = \"assignment5\"\n",
    "\n",
    "# the target (dependent) variable of interst (good/bad flag): 0 means no default within 12 months / 1 means default\n",
    "target = 'Commercial_GBF_12m'\n",
    "\n",
    "# the complete list of available features as of the loan approval date (see Equifax_Data_Dictionary.xlsx for details)\n",
    "all_features = ['EFX_Comp_ID',\n",
    " 'loanAmt',\n",
    " 'External_Admin',\n",
    " 'Petitions',\n",
    " 'Writs_and_Summons',\n",
    " 'Writs_and_Summons_Value',\n",
    " 'Writs_and_Summons_LT_12M',\n",
    " 'Writs_and_Summons_LT_12M_Value',\n",
    " 'Writs_and_Summons_GT_12M',\n",
    " 'Writs_and_Summons_GT_12M_Value',\n",
    " 'Judgements',\n",
    " 'Judgements_Value',\n",
    " 'Judgements_LT_12M',\n",
    " 'Judgements_LT_12M_Value',\n",
    " 'Judgements_GT_12M',\n",
    " 'Judgements_GT_12M_Value',\n",
    " 'Directors',\n",
    " 'Defaults',\n",
    " 'Defaults_Value',\n",
    " 'Defaults_12',\n",
    " 'Defaults_12_Value',\n",
    " 'Defaults_GT_12M',\n",
    " 'Defaults_GT_12M_Value',\n",
    " 'Telco_Defaults_LT_12M',\n",
    " 'Telco_Defaults_LT_12M_Value',\n",
    " 'Utility_Defaults_LT_12M',\n",
    " 'Other_Defaults_LT_12M',\n",
    " 'Other_Defaults_LT_12M_Value',\n",
    " 'Defaults_Paid',\n",
    " 'Defaults_Paid_Value',\n",
    " 'Defaults_Unpaid',\n",
    " 'Defaults_Unpaid_Value',\n",
    " 'Credit_Enqry',\n",
    " 'Credit_Enqry_Value',\n",
    " 'Credit_Enqry_LT_12M',\n",
    " 'Credit_Enqry_LT_12M_Value',\n",
    " 'Credit_Enqry_GT_12M',\n",
    " 'Credit_Enqry_GT_12M_Value',\n",
    " 'Broker_Enqry',\n",
    " 'Broker_Enqry_Value',\n",
    " 'Broker_Enqry_LT_12M',\n",
    " 'Broker_Enqry_LT_12M_Value',\n",
    " 'Broker_Enqry_GT_12M',\n",
    " 'Broker_Enqry_GT_12M_Value',\n",
    " 'Mercantile_Enqry_LT_12M',\n",
    " 'Mercantile_Enqry',\n",
    " 'Mercantile_Enqry_GT_12M',\n",
    " 'Mercantile_Enqry_GT_12M_Value',\n",
    " 'ny7513_df_6m',\n",
    " 'ny7514_df_12m',\n",
    " 'ny7516_df_60_84m',\n",
    " 'ny7517_df_tcut_6m',\n",
    " 'ny7518_df_tcut_12m',\n",
    " 'ny7520_df_tcut_60_84m',\n",
    " 'ny7568_df_sts_unpd_60_84m',\n",
    " 'ny7585_df_origamt_tcut_60_84m',\n",
    " 'ny7586_df_origamt_60_84m',\n",
    " 'ny7587_df_latamt_12m',\n",
    " 'ny7588_df_latamt_60_84m',\n",
    " 'ny7589_df_time_1',\n",
    " 'ny7591_df_s_1_60_84m',\n",
    " 'ny7601_adv_48_84m',\n",
    " 'ny7999_enq_7d',\n",
    " 'ny8000_enq_1m',\n",
    " 'ny8001_enq_3m',\n",
    " 'ny8002_enq_6m',\n",
    " 'ny8003_enq_12m',\n",
    " 'ny8006_enq_60m',\n",
    " 'ny8028_enq_rm_1m',\n",
    " 'ny8029_enq_rm_3m',\n",
    " 'ny8030_enq_rm_6m',\n",
    " 'ny8031_enq_rm_12m',\n",
    " 'ny8034_enq_rm_60m',\n",
    " 'ny8042_enq_tcut_1m',\n",
    " 'ny8043_enq_tcut_3m',\n",
    " 'ny8044_enq_tcut_6m',\n",
    " 'ny8045_enq_tcut_12m',\n",
    " 'ny8048_enq_tcut_60m',\n",
    " 'ny8049_enq_own_3m',\n",
    " 'ny8050_enq_own_12m',\n",
    " 'ny8056_enq_amt_1',\n",
    " 'ny8057_enq_amt_2',\n",
    " 'ny8059_enq_time_1',\n",
    " 'ny8060_enq_time_2',\n",
    " 'ny8062_enq_amt_3m',\n",
    " 'ny8063_enq_amt_60m',\n",
    " 'np7504_dj_60m',\n",
    " 'np7505_dj_time_1',\n",
    " 'np7506_dj_out_amt_60m',\n",
    " 'np7508_dj_out_60m',\n",
    " 'np7509_wr_48m',\n",
    " 'np7510_wr_out_48m',\n",
    " 'np7511_wr_60m',\n",
    " 'np7512_wr_out_60m',\n",
    " 'np8500_dr_cur',\n",
    " 'np8501_dr_time_max_cur',\n",
    " 'np8502_dr_prev_60m',\n",
    " 'np8508_pr_cur',\n",
    " 'np8509_dr_prev_120m_ever',\n",
    " 'na8905_ntb_flg',\n",
    " 'na8902_age_fle_max',\n",
    " 'na8904_age_fle',\n",
    " 'na8908_age_ind',\n",
    " 'na8920_em_time_1',\n",
    " 'na8921_ad_time_1',\n",
    " 'ny8056_enq_amt_1_is_1']"
   ]
  },
  {
   "cell_type": "markdown",
   "metadata": {
    "deletable": false,
    "editable": false,
    "nbgrader": {
     "checksum": "0551c21c21d8cd4c8e06fc258be6fc88",
     "grade": false,
     "grade_id": "cell-6f2212a555a80d07",
     "locked": true,
     "schema_version": 1,
     "solution": false
    }
   },
   "source": [
    "Please run the following cell to import the required libraries."
   ]
  },
  {
   "cell_type": "code",
   "execution_count": 47,
   "metadata": {
    "deletable": false,
    "editable": false,
    "nbgrader": {
     "checksum": "78c5a7c99ea4074c4af06506dd8c17d4",
     "grade": false,
     "grade_id": "cell-942156ee2deb1e8a",
     "locked": true,
     "schema_version": 1,
     "solution": false
    }
   },
   "outputs": [],
   "source": [
    "# Usual imports\n",
    "import warnings\n",
    "warnings.simplefilter(action='ignore', category=FutureWarning)\n",
    "\n",
    "# Essential libraries for this assignment\n",
    "from finml import *\n",
    "import numpy as np\n",
    "import pandas as pd\n",
    "import matplotlib.pyplot as plt\n",
    "%matplotlib inline\n",
    "%matplotlib inline\n",
    "import nest_asyncio\n",
    "from tfclient import send_nn_request, send_logit_request, send_glm_request, send_grouped_mean_request\n",
    "nest_asyncio.apply()\n",
    "\n",
    "# Suppress warnings for deprecated methods from TensorFlow\n",
    "import tensorflow as tf\n",
    "tf.compat.v1.logging.set_verbosity(tf.compat.v1.logging.ERROR)"
   ]
  },
  {
   "cell_type": "markdown",
   "metadata": {
    "deletable": false,
    "editable": false,
    "nbgrader": {
     "checksum": "db401c7fcb1149220389eef80fbd49ff",
     "grade": false,
     "grade_id": "cell-3a03cc8def1a7770",
     "locked": true,
     "schema_version": 1,
     "solution": false
    }
   },
   "source": [
    "In your assessment, please address the following questions."
   ]
  },
  {
   "cell_type": "markdown",
   "metadata": {
    "deletable": false,
    "editable": false,
    "nbgrader": {
     "checksum": "dd03607951accf3c574cce7d88601a8d",
     "grade": false,
     "grade_id": "cell-567fabf3a843133b",
     "locked": true,
     "schema_version": 1,
     "solution": false
    }
   },
   "source": [
    "### Question 1 (2 marks)\n",
    "Write a Python code that creates two bar plots of average default rates (`Commercial_GBF_12m`) depending on (i) whether a company was under external administration (`External_Admin`) or (ii) had filed [petitions](https://www.thegazette.co.uk/all-notices/content/101087) (`Petitions`). Make sure your plots' axes are appropriately labelled."
   ]
  },
  {
   "cell_type": "markdown",
   "metadata": {
    "deletable": false,
    "editable": false,
    "nbgrader": {
     "checksum": "cdc4b37107eeec8e4c0583df1f79fac3",
     "grade": false,
     "grade_id": "cell-d18d600f2333c8b2",
     "locked": true,
     "schema_version": 1,
     "solution": false
    }
   },
   "source": [
    "### Answer 1"
   ]
  },
  {
   "cell_type": "code",
   "execution_count": 48,
   "metadata": {
    "deletable": false,
    "nbgrader": {
     "checksum": "89e218eb5d9c02769a21d5462dca8ca7",
     "grade": true,
     "grade_id": "cell-1596aee326837de6",
     "locked": false,
     "points": 2,
     "schema_version": 1,
     "solution": true
    }
   },
   "outputs": [
    {
     "data": {
      "application/vnd.jupyter.widget-view+json": {
       "model_id": "b9041004c4a64885a92621ef204ad2f1",
       "version_major": 2,
       "version_minor": 0
      },
      "text/plain": [
       "Image(value=b'GIF89aP\\x00P\\x00\\xf7\\x00\\x00\\x00\\x00\\x00\\x01\\x01\\x01\\x02\\x02\\x02\\x10\\x03\\x08\\x1d\\x04\\r5\\x06\\x16I…"
      ]
     },
     "metadata": {},
     "output_type": "display_data"
    },
    {
     "data": {
      "application/vnd.jupyter.widget-view+json": {
       "model_id": "5299eb78f0ee47d5a23456cf8e79d04b",
       "version_major": 2,
       "version_minor": 0
      },
      "text/plain": [
       "Image(value=b'GIF89aP\\x00P\\x00\\xf7\\x00\\x00\\x00\\x00\\x00\\x01\\x01\\x01\\x02\\x02\\x02\\x10\\x03\\x08\\x1d\\x04\\r5\\x06\\x16I…"
      ]
     },
     "metadata": {},
     "output_type": "display_data"
    },
    {
     "data": {
      "image/png": "[encoded data removed]",
      "text/plain": [
       "<Figure size 504x360 with 1 Axes>"
      ]
     },
     "metadata": {
      "needs_background": "light"
     },
     "output_type": "display_data"
    },
    {
     "data": {
      "image/png": "[encoded data removed]",
      "text/plain": [
       "<Figure size 504x360 with 1 Axes>"
      ]
     },
     "metadata": {
      "needs_background": "light"
     },
     "output_type": "display_data"
    }
   ],
   "source": [
    "# compute the grouped mean of average default rates on External_Admin and save it as a variable\n",
    "grouped_exAdmin = send_grouped_mean_request({\"data\": data,\"var\": \"External_Admin\"  , \"y\": target})\n",
    "\n",
    "# compute the grouped mean of average default rates on Petitions and save it as a variable\n",
    "grouped_Petitions = send_grouped_mean_request({\"data\": data,\"var\": \"Petitions\" , \"y\": target})\n",
    "\n",
    "# plot the grouped mean\n",
    "ax = grouped_exAdmin.plot.bar(\n",
    "    figsize=(7, 5),\n",
    "    title='Average Default Rates with Respect to Whether a Company Was Under External Administration\\n',\n",
    "    xlim=(0, 1),\n",
    "    ylim=(0, 0.5),\n",
    ")\n",
    "ax.set_xlabel(\"External Administraion\")\n",
    "ax.set_ylabel(\"Average Default Rates (in %)\");\n",
    "\n",
    "bx = grouped_Petitions.plot.bar(\n",
    "    figsize=(7, 5),\n",
    "    title='Average Default Rates with Respect to Whether a Company Had Filed Petitions\\n',\n",
    "    xlim=(0, 1),\n",
    "    ylim=(0, 0.5),\n",
    ")\n",
    "bx.set_xlabel(\"Petitions\")\n",
    "bx.set_ylabel(\"Average Default Rates (in %)\");\n"
   ]
  },
  {
   "cell_type": "markdown",
   "metadata": {
    "deletable": false,
    "editable": false,
    "nbgrader": {
     "checksum": "0f01d7df622217fa904e4271d9167604",
     "grade": false,
     "grade_id": "cell-988970cdca1ca8e5",
     "locked": true,
     "schema_version": 1,
     "solution": false
    }
   },
   "source": [
    "### Question 2 (2 marks)\n",
    "Write a Python code that creates two plots of average default rates (`Commercial_GBF_12m`) as a function of (i) the number of months since a director's last commercial default (`ny7589_df_time_1`) and (ii) the frequency of adverse commercial events over four years 48 months prior to application (`ny7601_adv_48_84m`). Make sure your plots' axes are appropriately labelled."
   ]
  },
  {
   "cell_type": "markdown",
   "metadata": {
    "deletable": false,
    "editable": false,
    "nbgrader": {
     "checksum": "8ae188c55f14e6ed271a0cffb9c8c534",
     "grade": false,
     "grade_id": "cell-d8aca8823cca6a3f",
     "locked": true,
     "schema_version": 1,
     "solution": false
    }
   },
   "source": [
    "### Answer 2"
   ]
  },
  {
   "cell_type": "code",
   "execution_count": 49,
   "metadata": {
    "deletable": false,
    "nbgrader": {
     "checksum": "0af152a4dfd9afe0b7fa82f0fdd2a8b6",
     "grade": true,
     "grade_id": "cell-48de7de1402bf96c",
     "locked": false,
     "points": 2,
     "schema_version": 1,
     "solution": true
    }
   },
   "outputs": [
    {
     "data": {
      "application/vnd.jupyter.widget-view+json": {
       "model_id": "bfbe7d13b67543b2b1e6efa3a38c24f2",
       "version_major": 2,
       "version_minor": 0
      },
      "text/plain": [
       "Image(value=b'GIF89aP\\x00P\\x00\\xf7\\x00\\x00\\x00\\x00\\x00\\x01\\x01\\x01\\x02\\x02\\x02\\x10\\x03\\x08\\x1d\\x04\\r5\\x06\\x16I…"
      ]
     },
     "metadata": {},
     "output_type": "display_data"
    },
    {
     "data": {
      "application/vnd.jupyter.widget-view+json": {
       "model_id": "698ac90c4c504c70b8d414776baa8183",
       "version_major": 2,
       "version_minor": 0
      },
      "text/plain": [
       "Image(value=b'GIF89aP\\x00P\\x00\\xf7\\x00\\x00\\x00\\x00\\x00\\x01\\x01\\x01\\x02\\x02\\x02\\x10\\x03\\x08\\x1d\\x04\\r5\\x06\\x16I…"
      ]
     },
     "metadata": {},
     "output_type": "display_data"
    },
    {
     "data": {
      "image/png": "[encoded data removed]",
      "text/plain": [
       "<Figure size 504x360 with 1 Axes>"
      ]
     },
     "metadata": {
      "needs_background": "light"
     },
     "output_type": "display_data"
    },
    {
     "data": {
      "image/png": "[encoded data removed]",
      "text/plain": [
       "<Figure size 504x360 with 1 Axes>"
      ]
     },
     "metadata": {
      "needs_background": "light"
     },
     "output_type": "display_data"
    }
   ],
   "source": [
    "# compute the grouped mean of average default rates on number of months a director's last commercial default and save it as a variable\n",
    "grouped_MonthsAfter = send_grouped_mean_request({\"data\": data,\"var\": \"ny7589_df_time_1\", \"y\": target})\n",
    "\n",
    "# compute the grouped mean of average default rates on the frequency of adverse commercial events over 4 years prior to application and save it as a variable\n",
    "grouped_FreqAdComm = send_grouped_mean_request({\"data\": data,\"var\": \"ny7601_adv_48_84m\", \"y\": target})\n",
    "\n",
    "# plot the grouped mean\n",
    "ax = grouped_MonthsAfter.plot(\n",
    "    figsize=(7, 5),\n",
    "    title=\"Average Default Rates with Respect to Number of Months a Director's Last Commercial Default\\n\",\n",
    "    xlim=(0, 80),\n",
    "    ylim=(0, 1),\n",
    ")\n",
    "ax.set_xlabel(\"Number of Months a Director's Last Commercial Default\")\n",
    "ax.set_ylabel(\"Average Default Rates (in %)\");\n",
    "\n",
    "bx = grouped_FreqAdComm.plot.bar(\n",
    "    figsize=(7, 5),\n",
    "    title='Average Default Rates with Respect to Frequency of Adverse Commercial 4 Years Prior to Application\\n',\n",
    "    xlim=(0, 1),\n",
    "    ylim=(0, 0.3),\n",
    ")\n",
    "bx.set_xlabel(\"Frequency of Adverse Commercial 4 Years Prior to Application\")\n",
    "bx.set_ylabel(\"Average Default Rates (in %)\");\n"
   ]
  },
  {
   "cell_type": "markdown",
   "metadata": {
    "deletable": false,
    "editable": false,
    "nbgrader": {
     "checksum": "cd7b191aeeabcff47a7cb79ad6415c96",
     "grade": false,
     "grade_id": "cell-2429642f3fe9eb3f",
     "locked": true,
     "schema_version": 1,
     "solution": false
    }
   },
   "source": [
    "### Question 3 (1 mark)\n",
    "How do you interpret the above plots from Questions 1 and 2? What is your conclusion?"
   ]
  },
  {
   "cell_type": "markdown",
   "metadata": {
    "deletable": false,
    "editable": false,
    "nbgrader": {
     "checksum": "c9f5f8a98b573844a2cd412d71b2f32d",
     "grade": false,
     "grade_id": "cell-e4552696a02b9b72",
     "locked": true,
     "schema_version": 1,
     "solution": false
    }
   },
   "source": [
    "### Answer 3"
   ]
  },
  {
   "cell_type": "markdown",
   "metadata": {
    "deletable": false,
    "nbgrader": {
     "checksum": "b394fe211eb7a9e4d2079f249c67331a",
     "grade": true,
     "grade_id": "cell-48f32fe35d810de4",
     "locked": false,
     "points": 1,
     "schema_version": 1,
     "solution": true
    }
   },
   "source": [
    "1. A company that was under external administration and had filed petitions have higher default rates on average. This makes sense as the a company with external administration conveys that the firm is insolvent, thus showing more troubles with paying loans back compared to that without external administration. Petitions also signal that firms are incapable of paying their loans back as a winding up petition is done by creditors when firms are owing them money.\n",
    "\n",
    "\n",
    "2. The less number of months (more recent, up to around 40 months) since the last commercial dafult seems to lead to a more likelihood of default as shown by the line graph. This can show incapability of a director to manage a firm. From the second plot, we can conclude that the more frequent adverse commercial events over 4 years, the more likely a firm would default (the average default rates are higher when the frequency is half or higher). The adverse events may have highlighted events concerning insolvency.\n"
   ]
  },
  {
   "cell_type": "markdown",
   "metadata": {
    "deletable": false,
    "editable": false,
    "nbgrader": {
     "checksum": "10ea2687907c3262bfeb891789b5f8de",
     "grade": false,
     "grade_id": "cell-e89736a299f0e319",
     "locked": true,
     "schema_version": 1,
     "solution": false
    }
   },
   "source": [
    "### Question 4 (2 marks)\n",
    "Run a full-fledged logistic regression model without any ex-ante feature selection. Based on the estimation output, select and report all features that are significant at the 5%-level (or below).\n",
    "\n",
    "**Note:** To increase the stability of the estimation, Python will automatically omit certain variables."
   ]
  },
  {
   "cell_type": "markdown",
   "metadata": {
    "deletable": false,
    "editable": false,
    "nbgrader": {
     "checksum": "361a0645242b9a07185e7f3041068b4b",
     "grade": false,
     "grade_id": "cell-3452037452448333",
     "locked": true,
     "schema_version": 1,
     "solution": false
    }
   },
   "source": [
    "### Answer 4 - Code"
   ]
  },
  {
   "cell_type": "code",
   "execution_count": 50,
   "metadata": {
    "deletable": false,
    "nbgrader": {
     "checksum": "2b7100282aad43f066f4a8d464d1c76c",
     "grade": true,
     "grade_id": "cell-8434cb12808907a7",
     "locked": false,
     "points": 1,
     "schema_version": 1,
     "solution": true
    }
   },
   "outputs": [
    {
     "data": {
      "application/vnd.jupyter.widget-view+json": {
       "model_id": "6b590471292d4860b57306be7f457337",
       "version_major": 2,
       "version_minor": 0
      },
      "text/plain": [
       "Image(value=b'GIF89aP\\x00P\\x00\\xf7\\x00\\x00\\x00\\x00\\x00\\x01\\x01\\x01\\x02\\x02\\x02\\x10\\x03\\x08\\x1d\\x04\\r5\\x06\\x16I…"
      ]
     },
     "metadata": {},
     "output_type": "display_data"
    },
    {
     "name": "stdout",
     "output_type": "stream",
     "text": [
      "Generalized Linear Model Regression Results                  \n",
      "==============================================================================\n",
      "Dep. Variable:                      y   No. Observations:                25000\n",
      "Model:                            GLM   Df Residuals:                    24906\n",
      "Model Family:                Binomial   Df Model:                           93\n",
      "Link Function:                  logit   Scale:                          1.0000\n",
      "Method:                            nm   Log-Likelihood:                -1729.5\n",
      "Date:                Wed, 06 Nov 2019   Deviance:                       3459.1\n",
      "Time:                        23:33:42   Pearson chi2:                 1.55e+04\n",
      "No. Iterations:                   100                                         \n",
      "Covariance Type:            nonrobust                                         \n",
      "==================================================================================================\n",
      "                                     coef    std err          z      P>|z|      [0.025      0.975]\n",
      "--------------------------------------------------------------------------------------------------\n",
      "Intercept                         -4.2263      0.056    -76.060      0.000      -4.335      -4.117\n",
      "EFX_Comp_ID                       -0.0020      0.047     -0.043      0.966      -0.094       0.090\n",
      "loanAmt                           -0.0054      0.049     -0.111      0.912      -0.101       0.090\n",
      "External_Admin                     0.4761      0.017     27.870      0.000       0.443       0.510\n",
      "Petitions                          0.0460      0.016      2.895      0.004       0.015       0.077\n",
      "Writs_and_Summons                  0.0309   7.27e+05   4.25e-08      1.000   -1.42e+06    1.42e+06\n",
      "Writs_and_Summons_Value           -0.0086        nan        nan        nan         nan         nan\n",
      "Writs_and_Summons_LT_12M           0.0307   4.67e+05   6.57e-08      1.000   -9.15e+05    9.15e+05\n",
      "Writs_and_Summons_LT_12M_Value     0.0068        nan        nan        nan         nan         nan\n",
      "Writs_and_Summons_GT_12M           0.0146   5.58e+05   2.62e-08      1.000   -1.09e+06    1.09e+06\n",
      "Writs_and_Summons_GT_12M_Value    -0.0852        nan        nan        nan         nan         nan\n",
      "Judgements                         0.0156        nan        nan        nan         nan         nan\n",
      "Judgements_Value                   0.0140   1.53e+06   9.16e-09      1.000      -3e+06       3e+06\n",
      "Judgements_LT_12M                  0.0789        nan        nan        nan         nan         nan\n",
      "Judgements_LT_12M_Value           -0.0306   9.51e+05  -3.22e-08      1.000   -1.86e+06    1.86e+06\n",
      "Judgements_GT_12M                 -0.0346        nan        nan        nan         nan         nan\n",
      "Judgements_GT_12M_Value            0.0501   1.01e+06   4.96e-08      1.000   -1.98e+06    1.98e+06\n",
      "Directors                         -0.0315      0.049     -0.639      0.523      -0.128       0.065\n",
      "Defaults                           0.0198    8.5e+05   2.33e-08      1.000   -1.67e+06    1.67e+06\n",
      "Defaults_Value                    -0.0469        nan        nan        nan         nan         nan\n",
      "Defaults_12                        0.0358        nan        nan        nan         nan         nan\n",
      "Defaults_12_Value                 -0.3311   3.71e+05  -8.93e-07      1.000   -7.27e+05    7.27e+05\n",
      "Defaults_GT_12M                    0.0015    1.2e+06   1.23e-09      1.000   -2.35e+06    2.35e+06\n",
      "Defaults_GT_12M_Value              0.1114   7.44e+05    1.5e-07      1.000   -1.46e+06    1.46e+06\n",
      "Telco_Defaults_LT_12M              0.0016   3.61e+05   4.33e-09      1.000   -7.08e+05    7.08e+05\n",
      "Telco_Defaults_LT_12M_Value        0.0066      0.157      0.042      0.967      -0.301       0.315\n",
      "Utility_Defaults_LT_12M            0.0092   1.84e+05   5.01e-08      1.000    -3.6e+05     3.6e+05\n",
      "Other_Defaults_LT_12M              0.0473   3.24e+05   1.46e-07      1.000   -6.35e+05    6.35e+05\n",
      "Other_Defaults_LT_12M_Value        0.3436      1.607      0.214      0.831      -2.806       3.494\n",
      "Defaults_Paid                     -0.0049   1.08e+06  -4.48e-09      1.000   -2.12e+06    2.12e+06\n",
      "Defaults_Paid_Value               -0.0409   1.22e+06  -3.36e-08      1.000   -2.38e+06    2.38e+06\n",
      "Defaults_Unpaid                    0.0357   9.93e+05    3.6e-08      1.000   -1.95e+06    1.95e+06\n",
      "Defaults_Unpaid_Value             -0.0249   4.34e+05  -5.74e-08      1.000   -8.51e+05    8.51e+05\n",
      "Credit_Enqry                       0.0734    1.2e+06   6.09e-08      1.000   -2.36e+06    2.36e+06\n",
      "Credit_Enqry_Value                -0.0248        nan        nan        nan         nan         nan\n",
      "Credit_Enqry_LT_12M                0.0700   4.03e+05   1.74e-07      1.000   -7.89e+05    7.89e+05\n",
      "Credit_Enqry_LT_12M_Value         -0.0637        nan        nan        nan         nan         nan\n",
      "Credit_Enqry_GT_12M                0.0633   9.52e+05   6.65e-08      1.000   -1.87e+06    1.87e+06\n",
      "Credit_Enqry_GT_12M_Value          0.0133        nan        nan        nan         nan         nan\n",
      "Broker_Enqry                       0.0330    1.1e+06   2.99e-08      1.000   -2.16e+06    2.16e+06\n",
      "Broker_Enqry_Value                -0.0289        nan        nan        nan         nan         nan\n",
      "Broker_Enqry_LT_12M                0.0832   4.52e+05   1.84e-07      1.000   -8.86e+05    8.86e+05\n",
      "Broker_Enqry_LT_12M_Value         -0.0092        nan        nan        nan         nan         nan\n",
      "Broker_Enqry_GT_12M               -0.0013   9.18e+05  -1.37e-09      1.000    -1.8e+06     1.8e+06\n",
      "Broker_Enqry_GT_12M_Value         -0.0442        nan        nan        nan         nan         nan\n",
      "Mercantile_Enqry_LT_12M           -0.1410      0.312     -0.451      0.652      -0.753       0.471\n",
      "Mercantile_Enqry                   0.3526      0.759      0.465      0.642      -1.135       1.840\n",
      "Mercantile_Enqry_GT_12M           -0.3646      0.850     -0.429      0.668      -2.030       1.301\n",
      "Mercantile_Enqry_GT_12M_Value      0.1843      0.441      0.418      0.676      -0.681       1.049\n",
      "ny7513_df_6m                      -0.0700      0.056     -1.252      0.211      -0.180       0.040\n",
      "ny7514_df_12m                     -0.0113      0.071     -0.157      0.875      -0.151       0.129\n",
      "ny7516_df_60_84m                   0.0923      0.100      0.922      0.356      -0.104       0.288\n",
      "ny7517_df_tcut_6m                 -0.0202      0.094     -0.214      0.830      -0.205       0.164\n",
      "ny7518_df_tcut_12m                 0.0183      0.046      0.402      0.687      -0.071       0.108\n",
      "ny7520_df_tcut_60_84m             -0.0749      0.066     -1.128      0.260      -0.205       0.055\n",
      "ny7568_df_sts_unpd_60_84m          0.0829      0.089      0.932      0.351      -0.091       0.257\n",
      "ny7585_df_origamt_tcut_60_84m      0.0260      0.037      0.702      0.482      -0.047       0.098\n",
      "ny7586_df_origamt_60_84m          -0.0702      1.748     -0.040      0.968      -3.497       3.357\n",
      "ny7587_df_latamt_12m               0.0179      0.039      0.457      0.648      -0.059       0.095\n",
      "ny7588_df_latamt_60_84m            0.0190      1.735      0.011      0.991      -3.382       3.421\n",
      "ny7589_df_time_1                  -0.1814      0.078     -2.324      0.020      -0.334      -0.028\n",
      "ny7591_df_s_1_60_84m              -0.0604      0.100     -0.607      0.544      -0.255       0.135\n",
      "ny7601_adv_48_84m                  0.1647      0.075      2.205      0.027       0.018       0.311\n",
      "ny7999_enq_7d                      0.0865      0.064      1.355      0.175      -0.039       0.212\n",
      "ny8000_enq_1m                     -0.0246      0.077     -0.320      0.749      -0.175       0.126\n",
      "ny8001_enq_3m                      0.0364      0.093      0.393      0.694      -0.145       0.218\n",
      "ny8002_enq_6m                     -0.0966      0.107     -0.899      0.368      -0.307       0.114\n",
      "ny8003_enq_12m                     0.1942      0.108      1.804      0.071      -0.017       0.405\n",
      "ny8006_enq_60m                    -0.0130      0.090     -0.144      0.885      -0.189       0.163\n",
      "ny8028_enq_rm_1m                   0.0266      0.053      0.504      0.614      -0.077       0.130\n",
      "ny8029_enq_rm_3m                   0.0504      0.088      0.574      0.566      -0.122       0.222\n",
      "ny8030_enq_rm_6m                  -0.0537      0.105     -0.513      0.608      -0.259       0.152\n",
      "ny8031_enq_rm_12m                 -0.0270      0.081     -0.334      0.738      -0.185       0.131\n",
      "ny8034_enq_rm_60m                 -0.0166      0.056     -0.295      0.768      -0.127       0.094\n",
      "ny8042_enq_tcut_1m                -0.0275      0.062     -0.441      0.659      -0.150       0.095\n",
      "ny8043_enq_tcut_3m                 0.0277      0.046      0.600      0.548      -0.063       0.118\n",
      "ny8044_enq_tcut_6m                -0.0305      0.052     -0.584      0.559      -0.133       0.072\n",
      "ny8045_enq_tcut_12m                0.0656      0.049      1.339      0.181      -0.030       0.162\n",
      "ny8048_enq_tcut_60m               -0.0296      0.050     -0.594      0.553      -0.127       0.068\n",
      "ny8049_enq_own_3m                  0.0240      0.072      0.335      0.738      -0.117       0.165\n",
      "ny8050_enq_own_12m                -0.1214      0.068     -1.785      0.074      -0.255       0.012\n",
      "ny8056_enq_amt_1                  -0.0051      0.069     -0.074      0.941      -0.139       0.129\n",
      "ny8057_enq_amt_2                  -0.0113      0.062     -0.183      0.855      -0.132       0.110\n",
      "ny8059_enq_time_1                 -0.0125      0.068     -0.183      0.855      -0.146       0.121\n",
      "ny8060_enq_time_2                 -0.0711      0.068     -1.053      0.293      -0.203       0.061\n",
      "ny8062_enq_amt_3m                 -0.0342      0.084     -0.409      0.683      -0.198       0.130\n",
      "ny8063_enq_amt_60m                -0.0019      0.055     -0.035      0.972      -0.110       0.106\n",
      "np7504_dj_60m                     -0.0052      0.082     -0.063      0.950      -0.166       0.156\n",
      "np7505_dj_time_1                  -0.0724      0.050     -1.440      0.150      -0.171       0.026\n",
      "np7506_dj_out_amt_60m              0.0339      0.020      1.691      0.091      -0.005       0.073\n",
      "np7508_dj_out_60m                  0.0304      0.069      0.438      0.661      -0.105       0.166\n",
      "np7509_wr_48m                     -0.1772      0.220     -0.804      0.421      -0.609       0.255\n",
      "np7510_wr_out_48m                  0.1651      0.209      0.788      0.430      -0.245       0.576\n",
      "np7511_wr_60m                      0.2019      0.244      0.827      0.408      -0.277       0.681\n",
      "np7512_wr_out_60m                 -0.1603      0.233     -0.689      0.491      -0.616       0.296\n",
      "np8500_dr_cur                     -0.0662      0.066     -1.006      0.315      -0.195       0.063\n",
      "np8501_dr_time_max_cur            -0.0596      0.071     -0.837      0.403      -0.199       0.080\n",
      "np8502_dr_prev_60m                 0.0088      0.053      0.165      0.869      -0.096       0.113\n",
      "np8508_pr_cur                     -0.0126      0.049     -0.259      0.796      -0.108       0.083\n",
      "np8509_dr_prev_120m_ever           0.0356      0.064      0.557      0.578      -0.090       0.161\n",
      "na8905_ntb_flg                     0.0267      0.040      0.663      0.507      -0.052       0.106\n",
      "na8902_age_fle_max                -0.0851      0.448     -0.190      0.849      -0.963       0.792\n",
      "na8904_age_fle                    -0.0247      0.445     -0.056      0.956      -0.897       0.847\n",
      "na8908_age_ind                     0.0610      0.072      0.845      0.398      -0.081       0.203\n",
      "na8920_em_time_1                  -0.0786      0.059     -1.339      0.181      -0.194       0.036\n",
      "na8921_ad_time_1                  -0.0260      0.059     -0.444      0.657      -0.141       0.089\n",
      "ny8056_enq_amt_1_is_1             -0.0176      0.044     -0.401      0.688      -0.103       0.068\n",
      "==================================================================================================\n"
     ]
    },
    {
     "data": {
      "text/plain": [
       "(None, None, {}, {})"
      ]
     },
     "execution_count": 50,
     "metadata": {},
     "output_type": "execute_result"
    }
   ],
   "source": [
    "#Setting parameters\n",
    "params = {\"data\": data, \"y\": target}\n",
    "\n",
    "#Creating logistic regression model \n",
    "send_glm_request(params)"
   ]
  },
  {
   "cell_type": "markdown",
   "metadata": {
    "deletable": false,
    "editable": false,
    "nbgrader": {
     "checksum": "b3bf3158bc09d3c335f124090e938316",
     "grade": false,
     "grade_id": "cell-672e51274bb86bc1",
     "locked": true,
     "schema_version": 1,
     "solution": false
    }
   },
   "source": [
    "### Answer 4 - Text"
   ]
  },
  {
   "cell_type": "markdown",
   "metadata": {
    "deletable": false,
    "nbgrader": {
     "checksum": "7d60147281d11d161c6612fd3a5828c9",
     "grade": true,
     "grade_id": "cell-a1df5bb87676c52b",
     "locked": false,
     "points": 1,
     "schema_version": 1,
     "solution": true
    }
   },
   "source": [
    "Features that are significant at the 5% level:\n",
    "- External_Admin (0.000)\n",
    "- Petitions (0.004)\n",
    "- ny7589_df_time_1 (0.020)\n",
    "- ny7601_adv_48_84m (0.027)\n"
   ]
  },
  {
   "cell_type": "markdown",
   "metadata": {
    "deletable": false,
    "editable": false,
    "nbgrader": {
     "checksum": "06d09413d3b0a4cea9970c1264e9183d",
     "grade": false,
     "grade_id": "cell-61c8d589a5d409a0",
     "locked": true,
     "schema_version": 1,
     "solution": false
    }
   },
   "source": [
    "### Question 5 (3 marks)\n",
    "Run a logit model using the function `send_logit_request()` and applying the following specifications:\n",
    "1. Relative size of test data: 20%\n",
    "2. Only use the features from Question 4 with a significance level below 5%\n",
    "3. Scaling: \"True\"\n",
    "\n",
    "Evaluate the testing performance of your logit model."
   ]
  },
  {
   "cell_type": "markdown",
   "metadata": {
    "deletable": false,
    "editable": false,
    "nbgrader": {
     "checksum": "7d6018d9470a313f05acc27f2aa9f8a2",
     "grade": false,
     "grade_id": "cell-6dbcd250786a27d0",
     "locked": true,
     "schema_version": 1,
     "solution": false
    }
   },
   "source": [
    "### Answer 5 - Code"
   ]
  },
  {
   "cell_type": "code",
   "execution_count": 51,
   "metadata": {
    "deletable": false,
    "nbgrader": {
     "checksum": "d388ff228e4d863b25531659011de83b",
     "grade": true,
     "grade_id": "cell-bb09a8eadfc0b18a",
     "locked": false,
     "points": 2,
     "schema_version": 1,
     "solution": true
    }
   },
   "outputs": [
    {
     "data": {
      "application/vnd.jupyter.widget-view+json": {
       "model_id": "888bfaabf51a469a868c4c1f2210dd21",
       "version_major": 2,
       "version_minor": 0
      },
      "text/plain": [
       "Image(value=b'GIF89aP\\x00P\\x00\\xf7\\x00\\x00\\x00\\x00\\x00\\x01\\x01\\x01\\x02\\x02\\x02\\x10\\x03\\x08\\x1d\\x04\\r5\\x06\\x16I…"
      ]
     },
     "metadata": {},
     "output_type": "display_data"
    },
    {
     "name": "stdout",
     "output_type": "stream",
     "text": [
      "########################################\n",
      "############## Test Set: ###############\n",
      "########################################\n",
      "Precision:  0.875\n",
      "Recall:  0.0660377358490566\n",
      "Accuracy Score:  0.98\n",
      "roc_auc:  0.7267582176095488\n",
      "Confusion matrix: \n",
      "[[4893    1]\n",
      " [  99    7]]\n",
      "\n",
      "########################################\n",
      "############## Train Set: ##############\n",
      "########################################\n",
      "Precision:  0.5\n",
      "Recall:  0.03324808184143223\n",
      "Accuracy Score:  0.98045\n",
      "roc_auc:  0.7317614347710008\n",
      "Confusion matrix: \n",
      "[[19596    13]\n",
      " [  378    13]]\n"
     ]
    },
    {
     "data": {
      "text/plain": [
       "({'accuracy': 0.98045,\n",
       "  'precision': 0.5,\n",
       "  'recall': 0.03324808184143223,\n",
       "  'roc': 0.7317614347710008},\n",
       " {'accuracy': 0.98,\n",
       "  'precision': 0.875,\n",
       "  'recall': 0.0660377358490566,\n",
       "  'roc': 0.7267582176095488})"
      ]
     },
     "execution_count": 51,
     "metadata": {},
     "output_type": "execute_result"
    }
   ],
   "source": [
    "#Set features\n",
    "features = ['External_Admin', 'Petitions', 'ny7589_df_time_1', 'ny7601_adv_48_84m']\n",
    "\n",
    "#Set parameters\n",
    "params = {\"data\": data, \"test\": 0.2, \"x\": features, \"y\": target, \"scale\":\"True\"}\n",
    "\n",
    "#Create model and evaluate\n",
    "send_logit_request(params) \n",
    "    "
   ]
  },
  {
   "cell_type": "markdown",
   "metadata": {
    "deletable": false,
    "editable": false,
    "nbgrader": {
     "checksum": "ef43a24a8f2f747faef42ab2ed3381ba",
     "grade": false,
     "grade_id": "cell-f5d31002b5e9a789",
     "locked": true,
     "schema_version": 1,
     "solution": false
    }
   },
   "source": [
    "### Answer 5 - Text"
   ]
  },
  {
   "cell_type": "markdown",
   "metadata": {
    "deletable": false,
    "nbgrader": {
     "checksum": "3b971104e47c4bff267bed2caba45321",
     "grade": true,
     "grade_id": "cell-2a4a888a1e71ac61",
     "locked": false,
     "points": 1,
     "schema_version": 1,
     "solution": true
    }
   },
   "source": [
    "The model has high train and test accuracy, however, this measure is somewhat misleading as accuracy is the proportion of correct classification. This data set is distributed in a way that thare is clearly more non defaults (0) than defaults (1). Hence, more likely for the model to correctly predict non defaults, 0s. Precision, on the other hand, is high on the test set (0.875) and exactly half on the training set. This is a better reflection of the model as it shows proportion of correctly predicted defaults. This shows misopportunities (false positives) of firms that actually will not default. This neglects all the non defaults. Precision is calculated only from the number of predicted defaults and the total for both training and testing set is pretty low. Hence, precision is also not a proper measure of a good fitting model in this context. On the other hand, recall is another performance measure that is  shown by the function and this shows how good the model is at identifying defaults. Recall takes into account false negatives, the number of wrongly predicted non defaults. This is one of the most important measure as it highlights the correct default predicitions as false negatives are costly (firms defaulting in the end). Recall for both training and testing set are low as both are below 0.1. This is again caused by the distribution of the dataset that includes many more non defaults compared to defaults. ROC AUC, the degree of discrimination, shows how well the model can differentiate between default and non default. This is really important and both training and testing set ROC AUC values are pretty high at 0.7318 and 0.768 respectively."
   ]
  },
  {
   "cell_type": "markdown",
   "metadata": {
    "deletable": false,
    "editable": false,
    "nbgrader": {
     "checksum": "57a4d1540e48bbca81bc103d402d632c",
     "grade": false,
     "grade_id": "cell-7f2d6bb9c9a92323",
     "locked": true,
     "schema_version": 1,
     "solution": false
    }
   },
   "source": [
    "### Question 6 (4 marks)\n",
    "Write a Python code that estimates a series of full-fledged neural networks with the following specifications:\n",
    "1. Number of layers: 1\n",
    "2. Number of units: 2, 4, 16, 64, 256\n",
    "3. Relative size of test data: 20%\n",
    "4. Scaling: \"True\"\n",
    "\n",
    "Generate one plot that shows each model's ROC (\"roc\"), both for testing and training. What is your conclusion?"
   ]
  },
  {
   "cell_type": "markdown",
   "metadata": {
    "deletable": false,
    "editable": false,
    "nbgrader": {
     "checksum": "3e767261ae73513cb37e0a7eed1561c9",
     "grade": false,
     "grade_id": "cell-95a1ba66d6df7be1",
     "locked": true,
     "schema_version": 1,
     "solution": false
    }
   },
   "source": [
    "### Answer 6 - Code"
   ]
  },
  {
   "cell_type": "code",
   "execution_count": 52,
   "metadata": {
    "deletable": false,
    "nbgrader": {
     "checksum": "cbcd228c81a7d4cdb1ba4bcfc1eb8c46",
     "grade": true,
     "grade_id": "cell-5490f30531e4cdab",
     "locked": false,
     "points": 3,
     "schema_version": 1,
     "solution": true
    }
   },
   "outputs": [
    {
     "data": {
      "application/vnd.jupyter.widget-view+json": {
       "model_id": "529cb84622344398980adef0ce42e99a",
       "version_major": 2,
       "version_minor": 0
      },
      "text/plain": [
       "Image(value=b'GIF89aP\\x00P\\x00\\xf7\\x00\\x00\\x00\\x00\\x00\\x01\\x01\\x01\\x02\\x02\\x02\\x10\\x03\\x08\\x1d\\x04\\r5\\x06\\x16I…"
      ]
     },
     "metadata": {},
     "output_type": "display_data"
    },
    {
     "name": "stdout",
     "output_type": "stream",
     "text": [
      "Model: \"sequential\"\n",
      "_________________________________________________________________\n",
      "Layer (type)                 Output Shape              Param #   \n",
      "=================================================================\n",
      "dense (Dense)                (None, 2)                 214       \n",
      "_________________________________________________________________\n",
      "dense_1 (Dense)              (None, 1)                 3         \n",
      "=================================================================\n",
      "Total params: 217\n",
      "Trainable params: 217\n",
      "Non-trainable params: 0\n",
      "_________________________________________________________________\n",
      "Train on 20000 samples, validate on 5000 samples\n",
      "Epoch 1/1000\n",
      "20000/20000 - 1s - loss: 0.7351 - acc: 0.5962 - val_loss: 0.6618 - val_acc: 0.9020\n",
      "Epoch 2/1000\n",
      "20000/20000 - 0s - loss: 0.6101 - acc: 0.9492 - val_loss: 0.5728 - val_acc: 0.9726\n",
      "Epoch 3/1000\n",
      "20000/20000 - 0s - loss: 0.5408 - acc: 0.9762 - val_loss: 0.5135 - val_acc: 0.9760\n",
      "Epoch 4/1000\n",
      "20000/20000 - 0s - loss: 0.4869 - acc: 0.9784 - val_loss: 0.4635 - val_acc: 0.9770\n",
      "Epoch 5/1000\n",
      "20000/20000 - 0s - loss: 0.4406 - acc: 0.9793 - val_loss: 0.4205 - val_acc: 0.9780\n",
      "Epoch 6/1000\n",
      "20000/20000 - 0s - loss: 0.4003 - acc: 0.9801 - val_loss: 0.3828 - val_acc: 0.9784\n",
      "Epoch 7/1000\n",
      "20000/20000 - 0s - loss: 0.3650 - acc: 0.9803 - val_loss: 0.3500 - val_acc: 0.9790\n",
      "Epoch 8/1000\n",
      "20000/20000 - 0s - loss: 0.3341 - acc: 0.9803 - val_loss: 0.3212 - val_acc: 0.9788\n",
      "Epoch 9/1000\n",
      "20000/20000 - 0s - loss: 0.3068 - acc: 0.9804 - val_loss: 0.2957 - val_acc: 0.9788\n",
      "Epoch 10/1000\n",
      "20000/20000 - 0s - loss: 0.2828 - acc: 0.9804 - val_loss: 0.2733 - val_acc: 0.9790\n",
      "Epoch 11/1000\n",
      "20000/20000 - 0s - loss: 0.2615 - acc: 0.9805 - val_loss: 0.2534 - val_acc: 0.9790\n",
      "Epoch 12/1000\n",
      "20000/20000 - 0s - loss: 0.2427 - acc: 0.9805 - val_loss: 0.2357 - val_acc: 0.9792\n",
      "Epoch 13/1000\n",
      "20000/20000 - 0s - loss: 0.2257 - acc: 0.9807 - val_loss: 0.2196 - val_acc: 0.9790\n",
      "Epoch 14/1000\n",
      "20000/20000 - 0s - loss: 0.2104 - acc: 0.9807 - val_loss: 0.2050 - val_acc: 0.9790\n",
      "Epoch 15/1000\n",
      "20000/20000 - 0s - loss: 0.1966 - acc: 0.9807 - val_loss: 0.1919 - val_acc: 0.9792\n",
      "Epoch 16/1000\n",
      "20000/20000 - 0s - loss: 0.1843 - acc: 0.9806 - val_loss: 0.1801 - val_acc: 0.9794\n",
      "Epoch 17/1000\n",
      "20000/20000 - 0s - loss: 0.1731 - acc: 0.9809 - val_loss: 0.1696 - val_acc: 0.9796\n",
      "Epoch 18/1000\n",
      "20000/20000 - 0s - loss: 0.1632 - acc: 0.9809 - val_loss: 0.1605 - val_acc: 0.9792\n",
      "Epoch 19/1000\n",
      "20000/20000 - 0s - loss: 0.1542 - acc: 0.9810 - val_loss: 0.1522 - val_acc: 0.9792\n",
      "Epoch 20/1000\n",
      "20000/20000 - 0s - loss: 0.1461 - acc: 0.9809 - val_loss: 0.1447 - val_acc: 0.9790\n",
      "Epoch 21/1000\n",
      "20000/20000 - 0s - loss: 0.1389 - acc: 0.9811 - val_loss: 0.1380 - val_acc: 0.9790\n",
      "Epoch 22/1000\n",
      "20000/20000 - 0s - loss: 0.1323 - acc: 0.9811 - val_loss: 0.1320 - val_acc: 0.9792\n",
      "Epoch 23/1000\n",
      "20000/20000 - 0s - loss: 0.1263 - acc: 0.9812 - val_loss: 0.1266 - val_acc: 0.9790\n",
      "Epoch 24/1000\n",
      "20000/20000 - 0s - loss: 0.1209 - acc: 0.9811 - val_loss: 0.1217 - val_acc: 0.9790\n",
      "Epoch 25/1000\n",
      "20000/20000 - 0s - loss: 0.1160 - acc: 0.9815 - val_loss: 0.1172 - val_acc: 0.9790\n",
      "Epoch 26/1000\n",
      "20000/20000 - 0s - loss: 0.1116 - acc: 0.9813 - val_loss: 0.1133 - val_acc: 0.9786\n",
      "Epoch 27/1000\n",
      "20000/20000 - 0s - loss: 0.1075 - acc: 0.9815 - val_loss: 0.1095 - val_acc: 0.9790\n",
      "Epoch 28/1000\n",
      "20000/20000 - 0s - loss: 0.1038 - acc: 0.9815 - val_loss: 0.1061 - val_acc: 0.9790\n",
      "Epoch 29/1000\n",
      "20000/20000 - 0s - loss: 0.1005 - acc: 0.9815 - val_loss: 0.1029 - val_acc: 0.9796\n",
      "Epoch 30/1000\n",
      "20000/20000 - 0s - loss: 0.0974 - acc: 0.9816 - val_loss: 0.1001 - val_acc: 0.9796\n",
      "Epoch 31/1000\n",
      "20000/20000 - 0s - loss: 0.0946 - acc: 0.9817 - val_loss: 0.0980 - val_acc: 0.9790\n",
      "Epoch 32/1000\n",
      "20000/20000 - 0s - loss: 0.0921 - acc: 0.9818 - val_loss: 0.0956 - val_acc: 0.9792\n",
      "Epoch 33/1000\n",
      "20000/20000 - 0s - loss: 0.0898 - acc: 0.9817 - val_loss: 0.0935 - val_acc: 0.9792\n",
      "Epoch 34/1000\n",
      "20000/20000 - 0s - loss: 0.0877 - acc: 0.9819 - val_loss: 0.0920 - val_acc: 0.9790\n",
      "Epoch 35/1000\n",
      "20000/20000 - 0s - loss: 0.0856 - acc: 0.9820 - val_loss: 0.0898 - val_acc: 0.9796\n",
      "Epoch 36/1000\n",
      "20000/20000 - 0s - loss: 0.0839 - acc: 0.9821 - val_loss: 0.0885 - val_acc: 0.9796\n",
      "Epoch 37/1000\n",
      "20000/20000 - 0s - loss: 0.0823 - acc: 0.9819 - val_loss: 0.0875 - val_acc: 0.9796\n",
      "Epoch 38/1000\n",
      "20000/20000 - 0s - loss: 0.0808 - acc: 0.9821 - val_loss: 0.0868 - val_acc: 0.9792\n",
      "Epoch 39/1000\n",
      "20000/20000 - 0s - loss: 0.0795 - acc: 0.9819 - val_loss: 0.0865 - val_acc: 0.9792\n",
      "Epoch 40/1000\n",
      "20000/20000 - 0s - loss: 0.0782 - acc: 0.9822 - val_loss: 0.0853 - val_acc: 0.9798\n",
      "Epoch 41/1000\n",
      "20000/20000 - 0s - loss: 0.0771 - acc: 0.9822 - val_loss: 0.0845 - val_acc: 0.9796\n",
      "Epoch 42/1000\n",
      "20000/20000 - 0s - loss: 0.0760 - acc: 0.9822 - val_loss: 0.0846 - val_acc: 0.9798\n",
      "Epoch 43/1000\n",
      "20000/20000 - 0s - loss: 0.0752 - acc: 0.9822 - val_loss: 0.0823 - val_acc: 0.9800\n",
      "Epoch 44/1000\n",
      "20000/20000 - 0s - loss: 0.0743 - acc: 0.9824 - val_loss: 0.0827 - val_acc: 0.9798\n",
      "Epoch 45/1000\n",
      "20000/20000 - 0s - loss: 0.0736 - acc: 0.9823 - val_loss: 0.0805 - val_acc: 0.9802\n",
      "Epoch 46/1000\n",
      "20000/20000 - 0s - loss: 0.0728 - acc: 0.9825 - val_loss: 0.0809 - val_acc: 0.9798\n",
      "Epoch 47/1000\n",
      "20000/20000 - 1s - loss: 0.0721 - acc: 0.9824 - val_loss: 0.0808 - val_acc: 0.9800\n",
      "Training Completed\n",
      "########################################\n",
      "############## Test Set: ###############\n",
      "########################################\n",
      "Precision:  0.65\n",
      "Recall:  0.12264150943396226\n",
      "Accuracy Score:  0.98\n",
      "roc_auc:  0.7922080175185633\n",
      "Confusion matrix: \n",
      "[[4887    7]\n",
      " [  93   13]]\n",
      "\n",
      "########################################\n",
      "############## Train Set: ##############\n",
      "########################################\n",
      "Precision:  0.803030303030303\n",
      "Recall:  0.13554987212276215\n",
      "Accuracy Score:  0.98245\n",
      "roc_auc:  0.8222740510483795\n",
      "Confusion matrix: \n",
      "[[19596    13]\n",
      " [  338    53]]\n",
      "\n",
      "\n"
     ]
    },
    {
     "data": {
      "application/vnd.jupyter.widget-view+json": {
       "model_id": "d4637be706834f94aec1b5ab20a5850f",
       "version_major": 2,
       "version_minor": 0
      },
      "text/plain": [
       "Image(value=b'GIF89aP\\x00P\\x00\\xf7\\x00\\x00\\x00\\x00\\x00\\x01\\x01\\x01\\x02\\x02\\x02\\x10\\x03\\x08\\x1d\\x04\\r5\\x06\\x16I…"
      ]
     },
     "metadata": {},
     "output_type": "display_data"
    },
    {
     "name": "stdout",
     "output_type": "stream",
     "text": [
      "Model: \"sequential\"\n",
      "_________________________________________________________________\n",
      "Layer (type)                 Output Shape              Param #   \n",
      "=================================================================\n",
      "dense (Dense)                (None, 4)                 428       \n",
      "_________________________________________________________________\n",
      "dense_1 (Dense)              (None, 1)                 5         \n",
      "=================================================================\n",
      "Total params: 433\n",
      "Trainable params: 433\n",
      "Non-trainable params: 0\n",
      "_________________________________________________________________\n",
      "Train on 20000 samples, validate on 5000 samples\n",
      "Epoch 1/1000\n",
      "20000/20000 - 1s - loss: 0.6384 - acc: 0.7294 - val_loss: 0.4435 - val_acc: 0.9612\n",
      "Epoch 2/1000\n",
      "20000/20000 - 0s - loss: 0.4196 - acc: 0.9719 - val_loss: 0.2868 - val_acc: 0.9758\n",
      "Epoch 3/1000\n",
      "20000/20000 - 0s - loss: 0.2592 - acc: 0.9786 - val_loss: 0.1693 - val_acc: 0.9766\n",
      "Epoch 4/1000\n",
      "20000/20000 - 0s - loss: 0.1572 - acc: 0.9793 - val_loss: 0.1303 - val_acc: 0.9770\n",
      "Epoch 5/1000\n",
      "20000/20000 - 0s - loss: 0.1238 - acc: 0.9796 - val_loss: 0.1144 - val_acc: 0.9764\n",
      "Epoch 6/1000\n",
      "20000/20000 - 0s - loss: 0.1084 - acc: 0.9801 - val_loss: 0.1052 - val_acc: 0.9768\n",
      "Epoch 7/1000\n",
      "20000/20000 - 0s - loss: 0.0990 - acc: 0.9801 - val_loss: 0.0996 - val_acc: 0.9770\n",
      "Epoch 8/1000\n",
      "20000/20000 - 0s - loss: 0.0924 - acc: 0.9803 - val_loss: 0.0959 - val_acc: 0.9776\n",
      "Epoch 9/1000\n",
      "20000/20000 - 0s - loss: 0.0878 - acc: 0.9804 - val_loss: 0.0933 - val_acc: 0.9782\n",
      "Epoch 10/1000\n",
      "20000/20000 - 0s - loss: 0.0844 - acc: 0.9804 - val_loss: 0.0914 - val_acc: 0.9786\n",
      "Epoch 11/1000\n",
      "20000/20000 - 0s - loss: 0.0820 - acc: 0.9805 - val_loss: 0.0901 - val_acc: 0.9788\n",
      "Epoch 12/1000\n",
      "20000/20000 - 0s - loss: 0.0802 - acc: 0.9809 - val_loss: 0.0890 - val_acc: 0.9788\n",
      "Epoch 13/1000\n",
      "20000/20000 - 0s - loss: 0.0787 - acc: 0.9811 - val_loss: 0.0881 - val_acc: 0.9780\n",
      "Epoch 14/1000\n",
      "20000/20000 - 0s - loss: 0.0773 - acc: 0.9812 - val_loss: 0.0873 - val_acc: 0.9780\n",
      "Epoch 15/1000\n",
      "20000/20000 - 0s - loss: 0.0763 - acc: 0.9814 - val_loss: 0.0868 - val_acc: 0.9788\n",
      "Epoch 16/1000\n",
      "20000/20000 - 0s - loss: 0.0754 - acc: 0.9815 - val_loss: 0.0863 - val_acc: 0.9790\n",
      "Epoch 17/1000\n",
      "20000/20000 - 0s - loss: 0.0747 - acc: 0.9815 - val_loss: 0.0856 - val_acc: 0.9788\n",
      "Epoch 18/1000\n",
      "20000/20000 - 0s - loss: 0.0741 - acc: 0.9816 - val_loss: 0.0852 - val_acc: 0.9790\n",
      "Epoch 19/1000\n",
      "20000/20000 - 0s - loss: 0.0736 - acc: 0.9811 - val_loss: 0.0845 - val_acc: 0.9790\n",
      "Epoch 20/1000\n",
      "20000/20000 - 0s - loss: 0.0731 - acc: 0.9815 - val_loss: 0.0843 - val_acc: 0.9794\n",
      "Epoch 21/1000\n",
      "20000/20000 - 0s - loss: 0.0726 - acc: 0.9814 - val_loss: 0.0842 - val_acc: 0.9790\n",
      "Epoch 22/1000\n",
      "20000/20000 - 0s - loss: 0.0723 - acc: 0.9816 - val_loss: 0.0838 - val_acc: 0.9784\n",
      "Epoch 23/1000\n",
      "20000/20000 - 0s - loss: 0.0719 - acc: 0.9817 - val_loss: 0.0833 - val_acc: 0.9792\n",
      "Epoch 24/1000\n",
      "20000/20000 - 0s - loss: 0.0715 - acc: 0.9818 - val_loss: 0.0829 - val_acc: 0.9788\n",
      "Epoch 25/1000\n",
      "20000/20000 - 0s - loss: 0.0712 - acc: 0.9816 - val_loss: 0.0825 - val_acc: 0.9790\n",
      "Epoch 26/1000\n",
      "20000/20000 - 0s - loss: 0.0709 - acc: 0.9817 - val_loss: 0.0826 - val_acc: 0.9792\n",
      "Epoch 27/1000\n",
      "20000/20000 - 0s - loss: 0.0705 - acc: 0.9815 - val_loss: 0.0826 - val_acc: 0.9792\n",
      "Training Completed\n",
      "########################################\n",
      "############## Test Set: ###############\n",
      "########################################\n",
      "Precision:  0.5384615384615384\n",
      "Recall:  0.1320754716981132\n",
      "Accuracy Score:  0.9792\n",
      "roc_auc:  0.8035310854261283\n",
      "Confusion matrix: \n",
      "[[4882   12]\n",
      " [  92   14]]\n",
      "\n",
      "########################################\n",
      "############## Train Set: ##############\n",
      "########################################\n",
      "Precision:  0.6631578947368421\n",
      "Recall:  0.16112531969309463\n",
      "Accuracy Score:  0.982\n",
      "roc_auc:  0.8574859735449522\n",
      "Confusion matrix: \n",
      "[[19577    32]\n",
      " [  328    63]]\n",
      "\n",
      "\n"
     ]
    },
    {
     "data": {
      "application/vnd.jupyter.widget-view+json": {
       "model_id": "f053324804414ed2b2760224a15dfece",
       "version_major": 2,
       "version_minor": 0
      },
      "text/plain": [
       "Image(value=b'GIF89aP\\x00P\\x00\\xf7\\x00\\x00\\x00\\x00\\x00\\x01\\x01\\x01\\x02\\x02\\x02\\x10\\x03\\x08\\x1d\\x04\\r5\\x06\\x16I…"
      ]
     },
     "metadata": {},
     "output_type": "display_data"
    },
    {
     "name": "stdout",
     "output_type": "stream",
     "text": [
      "Model: \"sequential\"\n",
      "_________________________________________________________________\n",
      "Layer (type)                 Output Shape              Param #   \n",
      "=================================================================\n",
      "dense (Dense)                (None, 16)                1712      \n",
      "_________________________________________________________________\n",
      "dense_1 (Dense)              (None, 1)                 17        \n",
      "=================================================================\n",
      "Total params: 1,729\n",
      "Trainable params: 1,729\n",
      "Non-trainable params: 0\n",
      "_________________________________________________________________\n",
      "Train on 20000 samples, validate on 5000 samples\n",
      "Epoch 1/1000\n",
      "20000/20000 - 1s - loss: 0.3137 - acc: 0.9572 - val_loss: 0.1411 - val_acc: 0.9782\n",
      "Epoch 2/1000\n",
      "20000/20000 - 0s - loss: 0.1135 - acc: 0.9796 - val_loss: 0.0900 - val_acc: 0.9796\n",
      "Epoch 3/1000\n",
      "20000/20000 - 0s - loss: 0.0860 - acc: 0.9799 - val_loss: 0.0813 - val_acc: 0.9804\n",
      "Epoch 4/1000\n",
      "20000/20000 - 0s - loss: 0.0777 - acc: 0.9808 - val_loss: 0.0783 - val_acc: 0.9804\n",
      "Epoch 5/1000\n",
      "20000/20000 - 0s - loss: 0.0737 - acc: 0.9811 - val_loss: 0.0789 - val_acc: 0.9808\n",
      "Epoch 6/1000\n",
      "20000/20000 - 0s - loss: 0.0715 - acc: 0.9816 - val_loss: 0.0784 - val_acc: 0.9816\n",
      "Training Completed\n",
      "########################################\n",
      "############## Test Set: ###############\n",
      "########################################\n",
      "Precision:  0.75\n",
      "Recall:  0.19811320754716982\n",
      "Accuracy Score:  0.9816\n",
      "roc_auc:  0.8259025298594351\n",
      "Confusion matrix: \n",
      "[[4887    7]\n",
      " [  85   21]]\n",
      "\n",
      "########################################\n",
      "############## Train Set: ##############\n",
      "########################################\n",
      "Precision:  0.6408450704225352\n",
      "Recall:  0.23273657289002558\n",
      "Accuracy Score:  0.98245\n",
      "roc_auc:  0.8391793579830964\n",
      "Confusion matrix: \n",
      "[[19558    51]\n",
      " [  300    91]]\n",
      "\n",
      "\n"
     ]
    },
    {
     "data": {
      "application/vnd.jupyter.widget-view+json": {
       "model_id": "8e0d4176028f4089b50e00ef576ff7e9",
       "version_major": 2,
       "version_minor": 0
      },
      "text/plain": [
       "Image(value=b'GIF89aP\\x00P\\x00\\xf7\\x00\\x00\\x00\\x00\\x00\\x01\\x01\\x01\\x02\\x02\\x02\\x10\\x03\\x08\\x1d\\x04\\r5\\x06\\x16I…"
      ]
     },
     "metadata": {},
     "output_type": "display_data"
    },
    {
     "name": "stdout",
     "output_type": "stream",
     "text": [
      "Model: \"sequential\"\n",
      "_________________________________________________________________\n",
      "Layer (type)                 Output Shape              Param #   \n",
      "=================================================================\n",
      "dense (Dense)                (None, 64)                6848      \n",
      "_________________________________________________________________\n",
      "dense_1 (Dense)              (None, 1)                 65        \n",
      "=================================================================\n",
      "Total params: 6,913\n",
      "Trainable params: 6,913\n",
      "Non-trainable params: 0\n",
      "_________________________________________________________________\n",
      "Train on 20000 samples, validate on 5000 samples\n",
      "Epoch 1/1000\n",
      "20000/20000 - 1s - loss: 0.1809 - acc: 0.9706 - val_loss: 0.0865 - val_acc: 0.9796\n",
      "Epoch 2/1000\n",
      "20000/20000 - 1s - loss: 0.0806 - acc: 0.9804 - val_loss: 0.0801 - val_acc: 0.9788\n",
      "Epoch 3/1000\n",
      "20000/20000 - 1s - loss: 0.0727 - acc: 0.9811 - val_loss: 0.0806 - val_acc: 0.9790\n",
      "Epoch 4/1000\n",
      "20000/20000 - 1s - loss: 0.0699 - acc: 0.9815 - val_loss: 0.0798 - val_acc: 0.9804\n",
      "Epoch 5/1000\n",
      "20000/20000 - 1s - loss: 0.0674 - acc: 0.9825 - val_loss: 0.0826 - val_acc: 0.9790\n",
      "Epoch 6/1000\n",
      "20000/20000 - 1s - loss: 0.0660 - acc: 0.9829 - val_loss: 0.0848 - val_acc: 0.9788\n",
      "Training Completed\n",
      "########################################\n",
      "############## Test Set: ###############\n",
      "########################################\n",
      "Precision:  0.5\n",
      "Recall:  0.16037735849056603\n",
      "Accuracy Score:  0.9788\n",
      "roc_auc:  0.8158526806023548\n",
      "Confusion matrix: \n",
      "[[4877   17]\n",
      " [  89   17]]\n",
      "\n",
      "########################################\n",
      "############## Train Set: ##############\n",
      "########################################\n",
      "Precision:  0.7338709677419355\n",
      "Recall:  0.23273657289002558\n",
      "Accuracy Score:  0.98335\n",
      "roc_auc:  0.8699758018624728\n",
      "Confusion matrix: \n",
      "[[19576    33]\n",
      " [  300    91]]\n",
      "\n",
      "\n"
     ]
    },
    {
     "data": {
      "application/vnd.jupyter.widget-view+json": {
       "model_id": "2bfa746e799f4893bf359a0e5d287366",
       "version_major": 2,
       "version_minor": 0
      },
      "text/plain": [
       "Image(value=b'GIF89aP\\x00P\\x00\\xf7\\x00\\x00\\x00\\x00\\x00\\x01\\x01\\x01\\x02\\x02\\x02\\x10\\x03\\x08\\x1d\\x04\\r5\\x06\\x16I…"
      ]
     },
     "metadata": {},
     "output_type": "display_data"
    },
    {
     "name": "stdout",
     "output_type": "stream",
     "text": [
      "Model: \"sequential\"\n",
      "_________________________________________________________________\n",
      "Layer (type)                 Output Shape              Param #   \n",
      "=================================================================\n",
      "dense (Dense)                (None, 256)               27392     \n",
      "_________________________________________________________________\n",
      "dense_1 (Dense)              (None, 1)                 257       \n",
      "=================================================================\n",
      "Total params: 27,649\n",
      "Trainable params: 27,649\n",
      "Non-trainable params: 0\n",
      "_________________________________________________________________\n",
      "Train on 20000 samples, validate on 5000 samples\n",
      "Epoch 1/1000\n",
      "20000/20000 - 1s - loss: 0.1408 - acc: 0.9729 - val_loss: 0.0804 - val_acc: 0.9800\n",
      "Epoch 2/1000\n",
      "20000/20000 - 1s - loss: 0.0750 - acc: 0.9809 - val_loss: 0.0819 - val_acc: 0.9796\n",
      "Epoch 3/1000\n",
      "20000/20000 - 1s - loss: 0.0696 - acc: 0.9816 - val_loss: 0.0837 - val_acc: 0.9800\n",
      "Training Completed\n",
      "########################################\n",
      "############## Test Set: ###############\n",
      "########################################\n",
      "Precision:  0.59375\n",
      "Recall:  0.1792452830188679\n",
      "Accuracy Score:  0.98\n",
      "roc_auc:  0.8088784109922816\n",
      "Confusion matrix: \n",
      "[[4881   13]\n",
      " [  87   19]]\n",
      "\n",
      "########################################\n",
      "############## Train Set: ##############\n",
      "########################################\n",
      "Precision:  0.6861313868613139\n",
      "Recall:  0.24040920716112532\n",
      "Accuracy Score:  0.983\n",
      "roc_auc:  0.860091385043065\n",
      "Confusion matrix: \n",
      "[[19566    43]\n",
      " [  297    94]]\n",
      "\n",
      "\n",
      "[0.8222740510483795, 0.8574859735449522, 0.8391793579830964, 0.8699758018624728, 0.860091385043065]\n",
      "[0.7922080175185633, 0.8035310854261283, 0.8259025298594351, 0.8158526806023548, 0.8088784109922816]\n"
     ]
    },
    {
     "data": {
      "image/png": "[encoded data removed]",
      "text/plain": [
       "<Figure size 576x432 with 1 Axes>"
      ]
     },
     "metadata": {
      "needs_background": "light"
     },
     "output_type": "display_data"
    },
    {
     "data": {
      "image/png": "[encoded data removed]",
      "text/plain": [
       "<Figure size 640x480 with 1 Axes>"
      ]
     },
     "metadata": {},
     "output_type": "display_data"
    }
   ],
   "source": [
    "#Define lists of the different units, training ROC and testing ROC\n",
    "unit = (2, 4, 16, 64, 256)\n",
    "roc_training =[None for _ in range(5)]\n",
    "roc_testing =[None for _ in range(5)]\n",
    "\n",
    "#Create a loop to go over the ANN with different unit values and filling the emppty lists with values from the metrics\n",
    "for i in range(5):\n",
    "    params = {'data': data, \"layers\": 1, \"units\": unit[i], \"test\": 0.2, \"x\": all_features, \"y\": target, 'scale':'True'}\n",
    "    model, scaler, training_metrics, testing_metrics = send_nn_request(params)\n",
    "    roc_training[i] = training_metrics['roc'] \n",
    "    roc_testing[i] = testing_metrics['roc']\n",
    "    \n",
    "#Checking by printing both training and testing ROCs    \n",
    "print(roc_training)\n",
    "print(roc_testing)\n",
    "\n",
    "#Creating a dataframe consisting the required series for the plot\n",
    "df = pd.DataFrame(list(zip(roc_training, roc_testing)), \n",
    "            columns = ['roc_training', 'roc_testing'],\n",
    "            index = unit) \n",
    "\n",
    "#Plotting 2 graphs with different x axis scaling\n",
    "# 1. Plot the created dataframe while changing the parameters of the diagram\n",
    "cx = df.plot(\n",
    "    figsize=(8, 6),\n",
    "    title='Testing and Training ROC AUC by ANN Unit Size\\n',\n",
    "    xlim=(0, 270),\n",
    "    ylim=(0.76, 0.9),\n",
    "    )\n",
    "\n",
    "cx.legend(loc='lower right')\n",
    "cx.set_xlabel(\"Model Compelxity (number of units)\")\n",
    "cx.set_ylabel(\"ROC AUC\");\n",
    "\n",
    "\n",
    "# 2. plot the training and testing roc auc as a function of #units\n",
    "plt.figure(num=None, figsize=(8, 6), dpi=80, facecolor='w', edgecolor='k')\n",
    "plt.plot(roc_training, label=\"Training ROC AUC\")\n",
    "plt.plot(roc_testing, label=\"Testing ROC AUC\")\n",
    "plt.xlabel(\"Model complexity (number of units: 2^x)\")\n",
    "plt.xticks(np.arange(0, 5, step=1), (1, 2, 4, 6, 8))\n",
    "plt.ylabel(\"ROC AUC\")\n",
    "plt.title(\"Testing and Training ROC AUC by ANN Unit Size\\n\")\n",
    "plt.legend();\n"
   ]
  },
  {
   "cell_type": "markdown",
   "metadata": {
    "deletable": false,
    "editable": false,
    "nbgrader": {
     "checksum": "37b6d9e8beb5054f36de91f5ee00a41b",
     "grade": false,
     "grade_id": "cell-bce99d4e20f9011e",
     "locked": true,
     "schema_version": 1,
     "solution": false
    }
   },
   "source": [
    "### Answer 6 - Text"
   ]
  },
  {
   "cell_type": "markdown",
   "metadata": {
    "deletable": false,
    "nbgrader": {
     "checksum": "d25aa66608349676b8922f551ffb5b07",
     "grade": true,
     "grade_id": "cell-b4cd52cc02c91ab1",
     "locked": false,
     "points": 1,
     "schema_version": 1,
     "solution": true
    }
   },
   "source": [
    "Holding everything else constant, it seems that the model with the highest ROC AUC value in the testing set is the model with 1 hidden layer and 16 units. This is not true for the training set in which ROC AUC value peaks when unit is 64. The graph suggests that after the peak, the values of ROC AUC for both training and testing set seem to be decreasing as the model gets more complex with more number of units. This makes sense as a more complex model would  lead to an overfit. The model would then loses its power of predicting an unkown set of data. Before their apex, there is no clear trend for the training set. ROC AUC value generally increases for the training set, while fluctuating as it drops when number of unit is 16. However, for the testing set, ROC AUC generally increases until it reaches the peak. \n"
   ]
  },
  {
   "cell_type": "markdown",
   "metadata": {
    "deletable": false,
    "editable": false,
    "nbgrader": {
     "checksum": "46e31b8c82136bc3ea3846cc49c65dc6",
     "grade": false,
     "grade_id": "cell-de71e9154d8be94e",
     "locked": true,
     "schema_version": 1,
     "solution": false
    }
   },
   "source": [
    "### Question 7 (2 marks)\n",
    "Based on the testing performance of the above five neural network model, which one would you pick and why? Rerun the estimation of your chosen model."
   ]
  },
  {
   "cell_type": "markdown",
   "metadata": {
    "deletable": false,
    "editable": false,
    "nbgrader": {
     "checksum": "8116753c79645e5b6e9f310a96adc5a7",
     "grade": false,
     "grade_id": "cell-08557321ae89e903",
     "locked": true,
     "schema_version": 1,
     "solution": false
    }
   },
   "source": [
    "### Answer 7 - Text"
   ]
  },
  {
   "cell_type": "markdown",
   "metadata": {
    "deletable": false,
    "nbgrader": {
     "checksum": "a07ce2cc44e5122eaf7f3ce2026ffd4f",
     "grade": true,
     "grade_id": "cell-940c3b0183e89cb2",
     "locked": false,
     "points": 1,
     "schema_version": 1,
     "solution": true
    }
   },
   "source": [
    "Test Set performances are presented in this table below.\n",
    "\n",
    "| Num. Layers  | Num. Units           | Precision  | Recall | Accuracy | ROC AUC |\n",
    "| --------- |:---------:| -----:| -----:| -----:| -----:|\n",
    "| 1 | 2 | 0.65 | 0.1226 | 0.98 | 0.7922 |\n",
    "| 1 | 4 | 0.5385 | 0.1321 | 0.9792 | 0.8035 |\n",
    "| 1 | 16 | 0.75 | 0.1981 | 0.9816 | 0.8259 |\n",
    "| 1 | 64 | 0.5 | 0.1604 | 0.9788 | 0.8158 |\n",
    "| 1 | 256 | 0.5938 | 0.1792 | 0.98 | 0.8089 |\n",
    "\n",
    "\n",
    "I will choose the model with 1 hidden layer and 16 units as not only that it has the highest performance, according to the usual performance measures (Precision, Recall, and Accuracy), but also the highest ROC AUC (the measure of discrimination). The confusion matrix also shows that this model predicts a healthy amount of defaults (postives). This also hints that the model is not a result of an overfit of the training set.\n"
   ]
  },
  {
   "cell_type": "markdown",
   "metadata": {
    "deletable": false,
    "editable": false,
    "nbgrader": {
     "checksum": "023472e2a336588fcf1cb449d3db0b4f",
     "grade": false,
     "grade_id": "cell-fe844a14497f43c0",
     "locked": true,
     "schema_version": 1,
     "solution": false
    }
   },
   "source": [
    "### Answer 7 - Code"
   ]
  },
  {
   "cell_type": "code",
   "execution_count": 53,
   "metadata": {
    "deletable": false,
    "nbgrader": {
     "checksum": "93d281cf235f54307beee82dfd81f0f6",
     "grade": true,
     "grade_id": "cell-d1a982406e0230ff",
     "locked": false,
     "points": 1,
     "schema_version": 1,
     "solution": true
    }
   },
   "outputs": [
    {
     "data": {
      "application/vnd.jupyter.widget-view+json": {
       "model_id": "fe768471dd624d4dbf625cf481bbcad2",
       "version_major": 2,
       "version_minor": 0
      },
      "text/plain": [
       "Image(value=b'GIF89aP\\x00P\\x00\\xf7\\x00\\x00\\x00\\x00\\x00\\x01\\x01\\x01\\x02\\x02\\x02\\x10\\x03\\x08\\x1d\\x04\\r5\\x06\\x16I…"
      ]
     },
     "metadata": {},
     "output_type": "display_data"
    },
    {
     "name": "stdout",
     "output_type": "stream",
     "text": [
      "Model: \"sequential\"\n",
      "_________________________________________________________________\n",
      "Layer (type)                 Output Shape              Param #   \n",
      "=================================================================\n",
      "dense (Dense)                (None, 16)                1712      \n",
      "_________________________________________________________________\n",
      "dense_1 (Dense)              (None, 1)                 17        \n",
      "=================================================================\n",
      "Total params: 1,729\n",
      "Trainable params: 1,729\n",
      "Non-trainable params: 0\n",
      "_________________________________________________________________\n",
      "Train on 20000 samples, validate on 5000 samples\n",
      "Epoch 1/1000\n",
      "20000/20000 - 1s - loss: 0.3137 - acc: 0.9572 - val_loss: 0.1411 - val_acc: 0.9782\n",
      "Epoch 2/1000\n",
      "20000/20000 - 0s - loss: 0.1135 - acc: 0.9796 - val_loss: 0.0900 - val_acc: 0.9796\n",
      "Epoch 3/1000\n",
      "20000/20000 - 0s - loss: 0.0860 - acc: 0.9799 - val_loss: 0.0813 - val_acc: 0.9804\n",
      "Epoch 4/1000\n",
      "20000/20000 - 0s - loss: 0.0777 - acc: 0.9808 - val_loss: 0.0783 - val_acc: 0.9804\n",
      "Epoch 5/1000\n",
      "20000/20000 - 0s - loss: 0.0737 - acc: 0.9811 - val_loss: 0.0789 - val_acc: 0.9808\n",
      "Epoch 6/1000\n",
      "20000/20000 - 1s - loss: 0.0715 - acc: 0.9816 - val_loss: 0.0784 - val_acc: 0.9816\n",
      "Training Completed\n",
      "########################################\n",
      "############## Test Set: ###############\n",
      "########################################\n",
      "Precision:  0.75\n",
      "Recall:  0.19811320754716982\n",
      "Accuracy Score:  0.9816\n",
      "roc_auc:  0.8259025298594351\n",
      "Confusion matrix: \n",
      "[[4887    7]\n",
      " [  85   21]]\n",
      "\n",
      "########################################\n",
      "############## Train Set: ##############\n",
      "########################################\n",
      "Precision:  0.6408450704225352\n",
      "Recall:  0.23273657289002558\n",
      "Accuracy Score:  0.98245\n",
      "roc_auc:  0.8391793579830964\n",
      "Confusion matrix: \n",
      "[[19558    51]\n",
      " [  300    91]]\n",
      "\n",
      "\n"
     ]
    }
   ],
   "source": [
    "#Set parameters\n",
    "params = {'data': data, \"layers\": 1, \"units\": 16, \"test\": 0.2, \"x\": all_features, \"y\": target, 'scale':'True'}\n",
    "\n",
    "#Build model \n",
    "model, scaler, training_metrics, testing_metrics = send_nn_request(params)"
   ]
  },
  {
   "cell_type": "markdown",
   "metadata": {
    "deletable": false,
    "editable": false,
    "nbgrader": {
     "checksum": "379b069a51a5637e87a104df58e3ae2b",
     "grade": false,
     "grade_id": "cell-e0e8f3ca9b702a7a",
     "locked": true,
     "schema_version": 1,
     "solution": false
    }
   },
   "source": [
    "### Question 8 (3 marks)\n",
    "Conduct an in-depth comparison between the \"simple\" logit model (Question 5) and your preferred neural network (Question 7). What are their respective potential advantages and disadvantages? If you were to run a credit scoring agency, which type of model you think your clients would prefer?"
   ]
  },
  {
   "cell_type": "markdown",
   "metadata": {
    "deletable": false,
    "editable": false,
    "nbgrader": {
     "checksum": "2969bc17f37c7d4fb7ff68ca2d526810",
     "grade": false,
     "grade_id": "cell-0826e66e97970a3c",
     "locked": true,
     "schema_version": 1,
     "solution": false
    }
   },
   "source": [
    "### Answer 8"
   ]
  },
  {
   "cell_type": "markdown",
   "metadata": {
    "deletable": false,
    "nbgrader": {
     "checksum": "c9bd989dd352ed5a82c4111987989a03",
     "grade": true,
     "grade_id": "cell-ecda2393f9a4bac3",
     "locked": false,
     "points": 3,
     "schema_version": 1,
     "solution": true
    }
   },
   "source": [
    "Comparison between both models\n",
    "\n",
    "Logit: \n",
    "- pros:\n",
    "    - Simpler model with only 4 features\n",
    "    - Lower computing power, more efficient\n",
    "    - Easier to interpret \n",
    "    - Less prone to overfit\n",
    "\n",
    "\n",
    "- cons:\n",
    "    - May not be able to explain complex combinations \n",
    "    - Can lead to an overfit quickly with more features\n",
    "    - Feature selection is an extra step to create a good fitting model \n",
    "    - Statistical knowledge is required and can benefit model building process \n",
    "\n",
    "Neural Network: \n",
    "- pros:\n",
    "    - Can handle complex combinations \n",
    "    - Simple to operate compared to a logit model with feature selection \n",
    "    - Can include large number of features without transforming the dataset\n",
    "    \n",
    "- cons: \n",
    "    - Is a \"blackbox\" as it is hard to understand intuitively how features interact with each other\n",
    "    - Computationally expensive\n",
    "    - No ways to properly construct the perfect/ optimum model \n",
    "    - More prone to overfitting (from changing the numbers of hidden layers and units)\n",
    "\n",
    "Test set performances are presented in this table below.\n",
    "\n",
    "| Model          | Precision  | Recall | Accuracy | ROC AUC |\n",
    "|:---------:| -----:| -----:| -----:| -----:|\n",
    "| Neural Network | 0.7500 | 0.1981 | 0.9816 | 0.8259 |\n",
    "| Logit | 0.875 | 0.0660 | 0.9800 | 0.7268 |\n",
    "\n",
    "From the test performances, we can see that the Neural Network has more discriminative power compared to that of the logit model as highlighted by the higher ROC AUC value (0.825>0.7268). This is highlighting the result of using a more complex model that utilises all the features available compared to that of only 4 from the logit model. It seems that in this context, the neural network gives the better model as it is most important for the model to be able to differentiate between defaults and non defaults correctly. The Neural Network model has better accuracy and recall too. The logit model does have a higher precision. This is due to it only resulting in 1 false positive relative to all 8 predicted defaults. This is better than 7 false positives relative to 28 predicted defaults from the Neural Network model. The logit model is somwhat better at correctly predicting defaults relative to the total default prediction. This measure is not that important comparead to recall as recall takes into account the false negatives that are costly to lending agencies (firms who would have defaulted).\n",
    "\n",
    "This can be seen from the testing set confusion matrix:\n",
    "\n",
    "Logit Model:\n",
    "- True Negatives = 4893   \n",
    "- True Positives = 7\n",
    "- False Negatives = 99\n",
    "- False Positives = 1\n",
    "\n",
    "Neural Network Model:\n",
    "- True Negatives = 4887\n",
    "- True Positives = 21\n",
    "- False Negatives = 85\n",
    "- False Positives = 7\n",
    "\n",
    "Clients would prefer the model that not only would properly distinguish default, but also would maximise their net revenue by giving out loans to firms that will not default. The most loss will occur from firms that will default, thus highlighted by the relative number of false negatives (Neural Network has lower number than Logit). From the testing confusion matrix and the performance measures, the Neural Network has a better performance compared to that of a simple logit model. Hence, clents would prefer the Neural Network model.\n",
    "\n"
   ]
  },
  {
   "cell_type": "markdown",
   "metadata": {
    "deletable": false,
    "editable": false,
    "nbgrader": {
     "checksum": "0e1841a5fb8ca58402b6f0888e3621b6",
     "grade": false,
     "grade_id": "cell-693d8ece9b0c38e0",
     "locked": true,
     "schema_version": 1,
     "solution": false
    }
   },
   "source": [
    "### Question 9 (3 marks)\n",
    "The average loan amount across the Equifax sample is $75,000. Furthermore, let us make the following simplifying assumptions:\n",
    "1. The interest rate charged for each loan under the simple logit model (Question 5) is 5% p.a.\n",
    "2. Each loan has a duration of one year\n",
    "3. If a loan defaults, the total amount is lost (zero recovery) and no interest payments occur\n",
    "4. A loan application only gets granted, if the respective model predicts no default\n",
    "5. Each granted loan generates administrative costs of 1% p.a.\n",
    "\n",
    "You are running a business that lends loans of $75,000 to small companies. Based on the above **testing data**, what is the interest rate implied by your chosen neural network (Question 7), such that you will generate the same net income as under the simple logit model?\n",
    "\n",
    "**Note:** For your calculations, you can neglect any time value of money effects."
   ]
  },
  {
   "cell_type": "markdown",
   "metadata": {
    "deletable": false,
    "editable": false,
    "nbgrader": {
     "checksum": "03d03717d66d64325ae058892815816d",
     "grade": false,
     "grade_id": "cell-3f3937ac783d676d",
     "locked": true,
     "schema_version": 1,
     "solution": false
    }
   },
   "source": [
    "### Answer 9"
   ]
  },
  {
   "cell_type": "markdown",
   "metadata": {
    "deletable": false,
    "nbgrader": {
     "checksum": "d248b054d5991bfa49e72a9120c97586",
     "grade": true,
     "grade_id": "cell-af1b55d69e9c64e7",
     "locked": false,
     "points": 3,
     "schema_version": 1,
     "solution": true
    }
   },
   "source": [
    "Utilise the testing set confusion matrix:\n",
    "\n",
    "Logit Model:\n",
    "- True Negatives = 4893   \n",
    "- True Positives = 7\n",
    "- False Negatives = 99\n",
    "- False Positives = 1\n",
    "\n",
    "Neural Network Model:\n",
    "- True Negatives = 4887\n",
    "- True Positives = 21\n",
    "- False Negatives = 85\n",
    "- False Positives = 7\n",
    "\n",
    "First, find the likelihood of firms actually paying back the loans by looking at the proportion of True Negatives over all the Predicted Negatives.\n",
    "\n",
    "For Logit Model,\n",
    "- 4893 /(4893+99) = 0.98016\n",
    "\n",
    "For NN Model,\n",
    "- 4887 / (4887+85) = 0.982904\n",
    "\n",
    "The propportion of False Negatives is also important as it depicts losses.\n",
    "\n",
    "For Logit Model,\n",
    "- 99 /(4893+99) = 0.01983\n",
    "\n",
    "For NN Model,\n",
    "- 85 / (4887+85) = 0.017096\n",
    "\n",
    "We know that the logit model interest rate is 5% p.a. From all the information give, we can calculate the net income of the logit model. It is calculated as follow.\n",
    "\n",
    "(0.98016) x 5% x 75000 + 100% x 1% x 75000 - (0.01983) x 75000 = $ 2938.35\n",
    "\n",
    "As we assume that net income for both models are the same, we can continue to calculate the interest rate for neural network model such that,\n",
    "\n",
    "Interest rate (Neural Net) = (2938.35 + ((0.017096) x 75000) - (100% x 1% x 75000)) x (100 / (0.982904 x 75000) = 4.707886 % "
   ]
  },
  {
   "cell_type": "markdown",
   "metadata": {
    "deletable": false,
    "editable": false,
    "nbgrader": {
     "checksum": "b0c503becae86a446729f924423d1050",
     "grade": false,
     "grade_id": "cell-3636a1fdf993de3f",
     "locked": true,
     "schema_version": 1,
     "solution": false
    }
   },
   "source": [
    "### Question 10 (1 mark)\n",
    "When you go through the dictionary provided in the file `Equifax_Data_Dictionary.xlsx`, you will notice that Equifax uses primarily legal data rather than accounting data to predict defaults. Why do you think that is?"
   ]
  },
  {
   "cell_type": "markdown",
   "metadata": {
    "deletable": false,
    "editable": false,
    "nbgrader": {
     "checksum": "ae0324c7fe86bf0b17d0770dec2d7677",
     "grade": false,
     "grade_id": "cell-01d10a5158034bf7",
     "locked": true,
     "schema_version": 1,
     "solution": false
    }
   },
   "source": [
    "### Answer 10"
   ]
  },
  {
   "cell_type": "markdown",
   "metadata": {
    "deletable": false,
    "nbgrader": {
     "checksum": "a5148cb51937bd01076750157c8c78aa",
     "grade": true,
     "grade_id": "cell-4e7a1613ee2a95dd",
     "locked": false,
     "points": 1,
     "schema_version": 1,
     "solution": true
    }
   },
   "source": [
    "Legal data provides a better reflection of likelihood of defaulting in the future as it keeps track of a firm's compliance to obligations and other legal circumstances; unlike accounting data that highlights the flow of money only. Legal data is a collection of facts that cannot be altered by the firms themselves. This is different to accounting data. This type of data can be altered by the firms as acts of earnings management. With legal data, information is clear and true and not prone to manipulation as firms that have defaulted before or were insolvent would produce some sort of legal data.\n",
    "\n"
   ]
  },
  {
   "cell_type": "markdown",
   "metadata": {
    "deletable": false,
    "editable": false,
    "nbgrader": {
     "checksum": "9263e9f7858f25c3eef16158ac6f9e1c",
     "grade": false,
     "grade_id": "cell-4f1c65e308233fec",
     "locked": true,
     "schema_version": 1,
     "solution": false
    }
   },
   "source": [
    "### Question 11 (2 marks)\n",
    "Discuss the pros and cons of using deep learning, i.e., hierarchical machine learning applied to big data, in the context of credit scoring."
   ]
  },
  {
   "cell_type": "markdown",
   "metadata": {
    "deletable": false,
    "editable": false,
    "nbgrader": {
     "checksum": "116b47ba1e01294ed5a626bb4a555819",
     "grade": false,
     "grade_id": "cell-0489160412f905cd",
     "locked": true,
     "schema_version": 1,
     "solution": false
    }
   },
   "source": [
    "### Answer 11"
   ]
  },
  {
   "cell_type": "markdown",
   "metadata": {
    "deletable": false,
    "nbgrader": {
     "checksum": "097564e4fb327ae85adf7d09f9e40552",
     "grade": true,
     "grade_id": "cell-0581a7ee830992d3",
     "locked": false,
     "points": 2,
     "schema_version": 1,
     "solution": true
    }
   },
   "source": [
    "One of the most obvious advantages of utilising deep learning is the performance of the model, especially by its ability to include lots of features compared to that of other simpler models such as a simple Logit model. This is a huge advantage so that the credit scoring agency can actually provide more inputs to actually further improve the model without any transformation beforehand. The improvements would be conveyed by the performance measures, especially the model's ability of discriminating future defaults. However, The performance can be costly as one of the problems of using deep learning is the model's inability to properly give an explanation of its outputs. A deep learning based model is considered as a 'black-box' as users do not know exactly how the computer actually process the inputs. This would hinder the credit scoring agency from giving a sound explanation of the reason behind the predicted output. Another advantage of utilising deep learning is efficiency. A firm that would like to have its credit score would just provide the needed information and anyone can just run the model with the infromation as the input. The output would be the credit score (can be binary as shown in this assignment). Efficiency is how quickly deep learning can be used to properly come up with an output. This is really beneficial to the credit scoring agency as it would save time and aid employees who work on credit scoring. Another limitation of utilising deep learning in this context is its model's inability to actually highlight the best model. Unlike a basic linear regressoin, there is no method such as Ordinary Least Squares to actually maximise a model's performance in deep learning based models. Changing complexity on an Artifiical Netural Network can be done by changing the hidden layers and units, but there is no metric to properly convey the best combinations. Hence, for a credit scoring agency, there is a dilemma in which model to use and how consistent the model can be in the long run. It is important that different firms are scored using similar models as a completely different model can lead to a different credit score. \n",
    "\n"
   ]
  }
 ],
 "metadata": {
  "kernelspec": {
   "display_name": "Python 3",
   "language": "python",
   "name": "python3"
  },
  "language_info": {
   "codemirror_mode": {
    "name": "ipython",
    "version": 3
   },
   "file_extension": ".py",
   "mimetype": "text/x-python",
   "name": "python",
   "nbconvert_exporter": "python",
   "pygments_lexer": "ipython3",
   "version": "3.7.1"
  }
 },
 "nbformat": 4,
 "nbformat_minor": 2
}
