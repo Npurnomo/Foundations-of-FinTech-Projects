{
 "cells": [
  {
   "cell_type": "markdown",
   "metadata": {
    "deletable": false,
    "editable": false,
    "nbgrader": {
     "checksum": "38adecd00f39164eb0736b852bb70740",
     "grade": false,
     "grade_id": "cell-f59ba02a0d0bd641",
     "locked": true,
     "schema_version": 1,
     "solution": false
    }
   },
   "source": [
    "## FNCE30012: Foundations of Fintech - Assignment 2\n",
    "As a follow-up to Assignment 1, Assignment 2 is also based on the instructions and introduction in **Assignment1_Intro.pdf**. Please provide your answer to each question in the allocated cell. Any additional cells will NOT be marked.\n",
    "\n",
    "Based on the BMM ICO, successful bidders will be allocated 1 BMM Coin against their student number. BMM coin holders will need to execute three steps to buy a car in the blockchain marketplace.\n",
    "1. Check if you were allocated a BMM Coin.\n",
    "2. Request your BMM Coin.\n",
    "3. Place an offer to buy a car. This is done in two steps:\n",
    "    1. Approve the blockchain marketplace to deduct 1 BMM Coin.\n",
    "    2. Send an offer with two prices, the first one for a low quality car and the second one for a high quality car.\n",
    "\n",
    "**Note:** You are required to provide solutions to all questions, irrespectively of whether you were allocated a BMM Coin or not!\n",
    "\n",
    "You may find the following functions from the *BMMNet package* helpful to complete this assignment.\n",
    "\n",
    "1. `is_winner()`: This function takes two arguments: \n",
    "    1. A connection object to the FNCE30012 Ethereum network; and\n",
    "    2. Your student number.\n",
    "    \n",
    "    It returns True, if a BMM Coin was allocted to the student number.  \n",
    "    \n",
    " \n",
    "2. `get_request_bmm_tx_object()`: This function takes 3 arguments:\n",
    "    1. A connection object to the FNCE30012 Ethereum network;\n",
    "    2. Transaction nonce; and\n",
    "    3. Your student number.\n",
    "\n",
    "    It returns a transaction object that can be used to send the underlying transaction to the FNCE30012 Ethereum network.  \n",
    "    \n",
    "\n",
    "3.  `get_bmm_approval_tx_object()`: This function takes 2 arguments:\n",
    "    1. A connection object to the FNCE30012 Ethereum network; and\n",
    "    2. Transaction nonce.\n",
    "\n",
    "    It returns a transaction object that can be used to send the underlying transaction to the FNCE30012 Ethereum network.  \n",
    "    \n",
    "\n",
    "4. `get_car_offer_tx_object()`: This function takes 4 arguments:\n",
    "    1. A connection object to the FNCE30012 Ethereum network; \n",
    "    2. Transaction nonce;\n",
    "    3. Price of a low quality car in cents; and\n",
    "    4. Price of a high quality car in cents.\n",
    "\n",
    "    It returns a transaction object that can be used to send the underlying transaction to the FNCE30012 Ethereum network.  \n",
    "    \n",
    "\n",
    "5. `get_bmm_balance()`: This function takes 2 arguments:\n",
    "    1. A connection object to the FNCE30012 Ethereum network; and\n",
    "    2. A public adress.\n",
    "    \n",
    "    It returns the balance of BMM coins for the given address.  \n",
    "    \n",
    "\n",
    "6. `get_bmm_address()`: This function returns the address of the BMM Coin smart contract.\n",
    "\n",
    "\n",
    "7. `get_car_marketplace_address()`: This function returns the address of the blockchain marketplace smart contract."
   ]
  },
  {
   "cell_type": "markdown",
   "metadata": {
    "deletable": false,
    "editable": false,
    "nbgrader": {
     "checksum": "4039a5dfbb380bd0280022c5e2f3b37d",
     "grade": false,
     "grade_id": "cell-db45235eb3d586e3",
     "locked": true,
     "schema_version": 1,
     "solution": false
    }
   },
   "source": [
    "## Question 1 (2 marks)\n",
    "Given the outcome of the ICO, calculate the expected utility from buying a car on the traditional vs. the blockchain marketplace. Based on your calculations, was your bidding strategy optimal ex-post?\n",
    "\n",
    "**Important:** For your calculations, you have to deduct (from your initial cash holdings of $110) the **minimal** amount necessary to successfully bid for a coin during the actual ICO."
   ]
  },
  {
   "cell_type": "markdown",
   "metadata": {
    "deletable": false,
    "nbgrader": {
     "checksum": "e77c6b74514f3b42ec1b9f87c79207a8",
     "grade": true,
     "grade_id": "cell-ae86d33738c95b33",
     "locked": false,
     "points": 2,
     "schema_version": 1,
     "solution": true
    }
   },
   "source": [
    "In the traditional marketplace (I assume the pessimistic view), I will offer \\\\$50, in which sellers with peaches will not accept the trade. Only owners with lemons will accept the trade. The calculation is as follow.\n",
    "\n",
    "leftover cash is \\\\$60.\n",
    "\n",
    "Expected utlity (traditional marketplace) = (1 x (65)) + (0 x (127)) + 60 = \\\\$125.\n",
    "\n",
    "Expected utlity in blockchain marketplace is calculated in similar manner , but the probability is given by the previous assignment (50% each type). I will offer the minimum that the sellers would agree to sell; \\\\$50 for a lemon and \\\\$100 for a peach. Not to forget to add the leftover cash on the utility of each event and deduct the price of the coin, \\\\$6.11. Hence, the calculation is as follow.\n",
    "\n",
    "Expected utlity (blockchain marketplace) = ((0.5 x (65+60)) + (0.5 x (127+10))) - 6.11 = \\\\$124.89.\n",
    "\n",
    "My bid was $6 and I did not get the coin. It was optimal as it is the maximum price I am willing to pay for the coin to make me indifferent between the marketplaces according to the utilities calculated.\n",
    "\n",
    "If I bid at the cutoff price and receive the coin, my expected utility from the blockchain marketplace will be lower than that of the traditional marketplace. (\\\\$124.89 < \\\\$125)\n",
    "\n",
    "\n",
    "\n"
   ]
  },
  {
   "cell_type": "markdown",
   "metadata": {
    "deletable": false,
    "editable": false,
    "nbgrader": {
     "checksum": "cd4255591b5c17569f5804f1b4ea77ae",
     "grade": false,
     "grade_id": "cell-567fabf3a843133b",
     "locked": true,
     "schema_version": 1,
     "solution": false
    }
   },
   "source": [
    "## Question 2 (1 mark)\n",
    "Check if you were allocated a BMM Coin. Instead of passing your student number directly, you should create a variable called `student_num` that stores your student number, and then use this variable in your code. Throughout this assignment, wherever your student number is required, you should use this variable."
   ]
  },
  {
   "cell_type": "code",
   "execution_count": 1,
   "metadata": {
    "deletable": false,
    "nbgrader": {
     "checksum": "0b40a65afbc27c603844b63b4611c870",
     "grade": false,
     "grade_id": "cell-1596aee326837de6",
     "locked": false,
     "schema_version": 1,
     "solution": true
    }
   },
   "outputs": [
    {
     "name": "stdout",
     "output_type": "stream",
     "text": [
      "False\n"
     ]
    }
   ],
   "source": [
    "# YOUR CODE HERE\n",
    "from bmmnet import *\n",
    "\n",
    "student_num = 909287\n",
    "w3 = connect()\n",
    "print(is_winner(w3, student_num))\n"
   ]
  },
  {
   "cell_type": "code",
   "execution_count": null,
   "metadata": {
    "deletable": false,
    "editable": false,
    "nbgrader": {
     "checksum": "b5c6eb8617e6cf802f98961dfc00e70b",
     "grade": true,
     "grade_id": "cell-12bf1cd631d3bc03",
     "locked": true,
     "points": 1,
     "schema_version": 1,
     "solution": false
    }
   },
   "outputs": [],
   "source": [
    "\"\"\"\n",
    "Please ignore this cell.\n",
    "\"\"\""
   ]
  },
  {
   "cell_type": "markdown",
   "metadata": {
    "deletable": false,
    "editable": false,
    "nbgrader": {
     "checksum": "15c63ec54fb00a67f568f5a0ff9cd5e1",
     "grade": false,
     "grade_id": "cell-988970cdca1ca8e5",
     "locked": true,
     "schema_version": 1,
     "solution": false
    }
   },
   "source": [
    "## Question 3 (2 marks)\n",
    "Request a BMM Coin from the network. The process of requesting a BMM Coin is similar to requesting Ether from the faucet.\n",
    "\n",
    "If you were allocated a BMM Coin as part of the ICO, one BMM Coin will be added to your account. You should store your address and private key in variables `my_address` and `my_private_key`, respectively.\n",
    "\n",
    "**Note:** You are required to provide the code, irrespectively of whether you were allocated a BMM Coin or not!"
   ]
  },
  {
   "cell_type": "code",
   "execution_count": 2,
   "metadata": {
    "deletable": false,
    "nbgrader": {
     "checksum": "d8daaf3bd7e5652073f439e71afcec70",
     "grade": true,
     "grade_id": "cell-48de7de1402bf96c",
     "locked": false,
     "points": 2,
     "schema_version": 1,
     "solution": true
    }
   },
   "outputs": [
    {
     "name": "stdout",
     "output_type": "stream",
     "text": [
      "my_address = 0x10080114E5DC15c3CEb4dA42775e7e7aD7F2ba7b\n",
      "my_private_key = 6de16bf44aca5b41b7dccedf47ba4ba302d09d7176fb61c2f87af1ad21e29381\n",
      "my bmm balance before = 0\n",
      "nonce_coin = 9\n",
      "tx_object_request_coin = {'value': 0, 'gasPrice': 0, 'chainId': None, 'gas': 5721970, 'nonce': 9, 'to': '0xc0dc333156624e1Ae73a363e4F674CD00244e1Dd', 'data': '0xd845a4b300000000000000000000000000000000000000000000000000000000000ddfe7'}\n",
      "The hash of the coin request transaction is 0xf5e21ba4b8b311690c04f77a202fe82c348aaaf52622992cd4c23cad53b365d2\n",
      "my bmm balance after = 0\n"
     ]
    }
   ],
   "source": [
    "#from tut 2\n",
    "my_address = \"0x10080114E5DC15c3CEb4dA42775e7e7aD7F2ba7b\" # update my_address variable with my public address\n",
    "my_private_key = \"6de16bf44aca5b41b7dccedf47ba4ba302d09d7176fb61c2f87af1ad21e29381\" # update my_private_key variable with my private key\n",
    "\n",
    "\n",
    "print(\"my_address = {0}\".format(my_address))\n",
    "print(\"my_private_key = {0}\".format(my_private_key))\n",
    "\n",
    "\n",
    "#check balance before\n",
    "\n",
    "print(\"my bmm balance before = {0}\".format(get_bmm_balance(w3, my_address)))\n",
    "\n",
    "\"\"\"These are the steps:\n",
    "- get the nonce\n",
    "- generate a transaction object\n",
    "- sign the transaction object with your private key\n",
    "- send the signed transaction object\"\"\"\n",
    "\n",
    "\n",
    "nonce_coin = get_transaction_count(w3, my_address)\n",
    "print(\"nonce_coin = {0}\".format(nonce_coin))\n",
    "\n",
    "tx_object_request_coin = get_request_bmm_tx_object(w3, nonce_coin, student_num)\n",
    "print(\"tx_object_request_coin = {0}\".format(tx_object_request_coin))\n",
    "\n",
    "signed_tx_request_coin = sign_transaction(w3, tx_object_request_coin, my_private_key)\n",
    "tx_hash_request_coin = w3.eth.sendRawTransaction(signed_tx_request_coin.rawTransaction)\n",
    "print(\"The hash of the coin request transaction is {0}\".format(to_hex(tx_hash_request_coin)))\n",
    "\n",
    "#check balance after\n",
    "print(\"my bmm balance after = {0}\".format(get_bmm_balance(w3, my_address)))\n",
    "\n",
    "#Transaction seen in \"https://eth.bmmlab.org/\""
   ]
  },
  {
   "cell_type": "markdown",
   "metadata": {
    "deletable": false,
    "editable": false,
    "nbgrader": {
     "checksum": "3b0cd49ce676ffd97143ca5f8d8dc41f",
     "grade": false,
     "grade_id": "cell-2429642f3fe9eb3f",
     "locked": true,
     "schema_version": 1,
     "solution": false
    }
   },
   "source": [
    "## Question 4 (3 marks)\n",
    "Send a conditional offer to buy a car in the blockchain marketplace. To do this you need to send two transactions: the first one to approve the blockchain marketplace to withdraw 1 BMM Coin, and the second one to send the conditional buy offer. Again, the process is similar to requesting Ether from the faucet.\n",
    "\n",
    "You should reuse the variables `my_address` and `my_private_key` from above. If you were allocated a BMM Coin and your offer was valid, a car token should be transferred to your public address.\n",
    "\n",
    "**Important:** \n",
    "1. Sending an offer costs 1 BMM Coin, so once you have successfully run your code, you will not be able to run it again (i.e., you will have spent your only coin to send an offer)!\n",
    "2. You are not allowed to remove the try/except block below.\n",
    "\n",
    "**Note:** You are required to provide the code, irrespectively of whether you were allocated a BMM Coin or not!"
   ]
  },
  {
   "cell_type": "code",
   "execution_count": 3,
   "metadata": {
    "deletable": false,
    "nbgrader": {
     "checksum": "8360c488cc028003c7fe9ec3e5bd0eef",
     "grade": true,
     "grade_id": "cell-48f32fe35d810de4",
     "locked": false,
     "points": 3,
     "schema_version": 1,
     "solution": true
    }
   },
   "outputs": [
    {
     "name": "stdout",
     "output_type": "stream",
     "text": [
      "my bmm balance = 0\n",
      "BMM coin smart contract balance before = 0\n",
      "Blockchain marketplace balance before = 93\n",
      "BMM coin smart contract address = 0xc0dc333156624e1Ae73a363e4F674CD00244e1Dd\n",
      "nonce_approved_coin = 10\n",
      "The hash of the approved coin transaction is 0xe4b8428c42cba95c6c698257c16fec74f20d390f0b7d367d1d8171cce84c1695\n",
      "my bmm balance = 0\n",
      "Blockchain marketplace smart conctract address = 0x94E235bE66264875FDBFB4C3Db989b398b8Dab72\n",
      "nonce_car = 10\n",
      "The hash of the car transaction is 0x151b5bf1f192ca2420378726a6c28f91a67f4b0cd3d09fbcf3a98f5a223e0bb9\n",
      "my bmm balance = 0\n",
      "BMM coin smart contract balance after = 0\n",
      "Blockchain marketplace balance after = 93\n"
     ]
    }
   ],
   "source": [
    "try:\n",
    "    \n",
    "    \"\"\"These are the steps:\n",
    "    - get the nonce\n",
    "    - generate a transaction object\n",
    "    - sign the transaction object with your private key\n",
    "    - send the signed transaction object\"\"\"\n",
    "\n",
    "    #check balance \n",
    "    print(\"my bmm balance = {0}\".format(get_bmm_balance(w3, my_address)))\n",
    "    print(\"BMM coin smart contract balance before = {0}\".format(get_bmm_balance(w3, get_bmm_address())))\n",
    "    print(\"Blockchain marketplace balance before = {0}\".format(get_bmm_balance(w3, get_car_marketplace_address())))\n",
    "    \n",
    "    print(\"BMM coin smart contract address = {0}\".format(get_bmm_address()))\n",
    "    coin_smart_contract_address = get_bmm_address()  #This function returns the address of the BMM Coin smart contract\n",
    "\n",
    "    # FIRST transaction\n",
    "    nonce_approved_coin = get_transaction_count(w3, my_address)\n",
    "    approved_coin = get_bmm_approval_tx_object(w3, nonce_approved_coin)\n",
    "    print(\"nonce_approved_coin = {0}\".format(nonce_approved_coin))\n",
    "    signed_tx_coin = sign_transaction(w3, approved_coin, my_private_key)\n",
    "    tx_hash_coin = w3.eth.sendRawTransaction(signed_tx_coin.rawTransaction)\n",
    "    print(\"The hash of the approved coin transaction is {0}\".format(to_hex(tx_hash_coin)))\n",
    "    \n",
    "    #check balance\n",
    "    print(\"my bmm balance = {0}\".format(get_bmm_balance(w3, my_address)))\n",
    "    \n",
    "    print(\"Blockchain marketplace smart conctract address = {0}\".format(get_car_marketplace_address()))\n",
    "    marketplace_address = get_car_marketplace_address() #This function returns the address of the blockchain marketplace smart contract.\n",
    "   \n",
    "    # SECOND transaction\n",
    "    nonce_car = get_transaction_count(w3, my_address)\n",
    "    print(\"nonce_car = {0}\".format(nonce_car))\n",
    "    tx_object_car = get_car_offer_tx_object(w3, nonce_car, 5000, 10000)\n",
    "    signed_tx_car = sign_transaction(w3, tx_object_car, my_private_key)\n",
    "    tx_hash_car = w3.eth.sendRawTransaction(signed_tx_car.rawTransaction)\n",
    "    print(\"The hash of the car transaction is {0}\".format(to_hex(tx_hash_car)))\n",
    "    \n",
    "    #check balance \n",
    "    print(\"my bmm balance = {0}\".format(get_bmm_balance(w3, my_address)))\n",
    "    \n",
    "    print(\"BMM coin smart contract balance after = {0}\".format(get_bmm_balance(w3, coin_smart_contract_address)))\n",
    "    \n",
    "    print(\"Blockchain marketplace balance after = {0}\".format(get_bmm_balance(w3, marketplace_address)))\n",
    "\n",
    "except Exception as e:\n",
    "    print(\"Oops something went wrong.\")"
   ]
  },
  {
   "cell_type": "markdown",
   "metadata": {
    "deletable": false,
    "editable": false,
    "nbgrader": {
     "checksum": "48999e85cda79c48eb16f3a69a3b6646",
     "grade": false,
     "grade_id": "cell-e89736a299f0e319",
     "locked": true,
     "schema_version": 1,
     "solution": false
    }
   },
   "source": [
    "## Question 5 (2 marks)\n",
    "So far, we have assumed that all information stored on the blockchain is correct. Provide an argument how the blockchain technology could pre-empt the long-run survival of corrupt “inspectors” who are willing to misreport the true quality of a lemon. On which assumptions does your argument rest? Your answer should not be longer than 300 words."
   ]
  },
  {
   "cell_type": "markdown",
   "metadata": {
    "deletable": false,
    "nbgrader": {
     "checksum": "191fc10b303c6675522e215722bfca95",
     "grade": true,
     "grade_id": "cell-8434cb12808907a7",
     "locked": false,
     "points": 2,
     "schema_version": 1,
     "solution": true
    }
   },
   "source": [
    "The one quality of the blockchain technology that is crucial to this problem is transparency. This is due to the series of steps an information is needed to pass so that it can be added to the blockchain. The series of steps includes verification and digital signature. This implies that any false information would not be added to the blockchain as it would fail the verification step. A digital signature is also important so that we will know for sure that the information has not been edited. There are two major ways of verification as a result of the decentralized “trust” mechanism: proof-of-work (POW) and proof-of-stake (POS) algorithms. Both provide incentives for the network to verify each other and add security to the network. In proof-of-work, the “validators” would be awarded coins if they manage to solve a computationally exhausting problem to add a new block. On the other hand, in proof-of-stake, only those with high stakes are allowed to “mine”.\n",
    "\n",
    "Both algorithms also discourage miners to misreport. For POW, the computational costs (electricity, time, etc) are not worth the addition of a new block as the miner would not be awarded coin(s) if the new block is invalid. For POS, the loss of stake if a block is invalid outweighs the benefit of misreporting. This also highlights the assumptions needed. I would assume that the extrinsic costs are higher than the utility gained from misreporting for POW. This is different to that of POS in which I assume that keeping the stake has higher utility that losing the stake (intrinsic costs) and misreporting. The validity of the information is further emphasized by the process of verification by multiple parties. For this, I assume that there are parties in the network that will notice any invalid information/ block."
   ]
  }
 ],
 "metadata": {
  "kernelspec": {
   "display_name": "Python 3",
   "language": "python",
   "name": "python3"
  },
  "language_info": {
   "codemirror_mode": {
    "name": "ipython",
    "version": 3
   },
   "file_extension": ".py",
   "mimetype": "text/x-python",
   "name": "python",
   "nbconvert_exporter": "python",
   "pygments_lexer": "ipython3",
   "version": "3.7.3"
  }
 },
 "nbformat": 4,
 "nbformat_minor": 2
}
